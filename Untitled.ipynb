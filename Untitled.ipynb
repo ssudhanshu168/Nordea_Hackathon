{
 "cells": [
  {
   "cell_type": "code",
   "execution_count": 1,
   "id": "6a98acd6",
   "metadata": {},
   "outputs": [
    {
     "name": "stdout",
     "output_type": "stream",
     "text": [
      "Requirement already satisfied: PyPDF4 in c:\\users\\sudhanshu\\anaconda3\\lib\\site-packages (1.27.0)\n"
     ]
    }
   ],
   "source": [
    "#!pip install PyPDF4"
   ]
  },
  {
   "cell_type": "code",
   "execution_count": 10,
   "id": "388d230a",
   "metadata": {},
   "outputs": [],
   "source": [
    "import PyPDF2"
   ]
  },
  {
   "cell_type": "code",
   "execution_count": 11,
   "id": "1d4fc505",
   "metadata": {},
   "outputs": [],
   "source": [
    "import PyPDF4\n",
    "import warnings\n",
    "warnings.filterwarnings(\"ignore\",category=DeprecationWarning)\n",
    "\n",
    "import pandas as pd"
   ]
  },
  {
   "cell_type": "code",
   "execution_count": 4,
   "id": "00efe8a2",
   "metadata": {},
   "outputs": [],
   "source": [
    "# filename = '../input/manifesto/manibook'\n",
    "# open_filename = open(filename, 'rb')\n",
    "\n",
    "# # ind_manifesto = PyPDF2.PdfFileReader(open_filename)"
   ]
  },
  {
   "cell_type": "code",
   "execution_count": null,
   "id": "e933c8cd",
   "metadata": {},
   "outputs": [],
   "source": [
    "# def retrieve_text(pdf_path):\n",
    "    \n",
    "#     with open(pdf_path, 'rb') as file:\n",
    "        \n",
    "#         reader = PyPDF4.PdfReader(file)\n",
    "        \n",
    "#         # Initialize an empty string to store the extracted text\n",
    "#         text = \"\"\n",
    "        \n",
    "#         # Iterate through each page in the PDF\n",
    "#         for page_num in range(len(reader.pages)):\n",
    "#             # Get the page object\n",
    "#             page = reader.pages[page_num]\n",
    "            \n",
    "#             # Extract text from the page\n",
    "#             text += page.extract_text()\n",
    "        \n",
    "#         return text\n",
    "\n",
    "# # Path to the PDF file\n",
    "# pdf_path = input('Write the file path:')\n",
    "\n",
    "# # Call the function to extract text from the PDF\n",
    "# extracted_text = extract_text_from_pdf(pdf_path)\n",
    "\n",
    "# # Print the extracted text\n",
    "# print(extracted_text)\n"
   ]
  },
  {
   "cell_type": "code",
   "execution_count": 6,
   "id": "501c5d18",
   "metadata": {},
   "outputs": [
    {
     "name": "stdout",
     "output_type": "stream",
     "text": [
      "Write a file path here:Sudhanshu_sharma_resume.pdf\n"
     ]
    },
    {
     "ename": "AttributeError",
     "evalue": "module 'PyPDF4' has no attribute 'PdfReader'",
     "output_type": "error",
     "traceback": [
      "\u001b[1;31m---------------------------------------------------------------------------\u001b[0m",
      "\u001b[1;31mAttributeError\u001b[0m                            Traceback (most recent call last)",
      "\u001b[1;32m<ipython-input-6-b7db382bdcce>\u001b[0m in \u001b[0;36m<module>\u001b[1;34m\u001b[0m\n\u001b[0;32m      1\u001b[0m \u001b[0mpdf_name\u001b[0m \u001b[1;33m=\u001b[0m \u001b[0minput\u001b[0m\u001b[1;33m(\u001b[0m\u001b[1;34m'Write a file path here:'\u001b[0m\u001b[1;33m)\u001b[0m\u001b[1;33m\u001b[0m\u001b[1;33m\u001b[0m\u001b[0m\n\u001b[1;32m----> 2\u001b[1;33m \u001b[0mopen_pdf\u001b[0m \u001b[1;33m=\u001b[0m \u001b[0mPyPDF4\u001b[0m\u001b[1;33m.\u001b[0m\u001b[0mPdfReader\u001b[0m\u001b[1;33m(\u001b[0m\u001b[0mopen\u001b[0m\u001b[1;33m(\u001b[0m\u001b[0mpdf_name\u001b[0m\u001b[1;33m,\u001b[0m\u001b[1;34m'rb'\u001b[0m\u001b[1;33m)\u001b[0m\u001b[1;33m)\u001b[0m\u001b[1;33m\u001b[0m\u001b[1;33m\u001b[0m\u001b[0m\n\u001b[0m\u001b[0;32m      3\u001b[0m \u001b[0mprint\u001b[0m\u001b[1;33m(\u001b[0m\u001b[0mopen_pdf\u001b[0m\u001b[1;33m)\u001b[0m\u001b[1;33m\u001b[0m\u001b[1;33m\u001b[0m\u001b[0m\n",
      "\u001b[1;31mAttributeError\u001b[0m: module 'PyPDF4' has no attribute 'PdfReader'"
     ]
    }
   ],
   "source": [
    "pdf_name = input('Write a file path here:')\n",
    "open_pdf = PyPDF4.PdfReader(open(pdf_name,'rb'))\n",
    "print(open_pdf)"
   ]
  },
  {
   "cell_type": "code",
   "execution_count": null,
   "id": "5f5b154e",
   "metadata": {},
   "outputs": [],
   "source": [
    "print(open_pdf)"
   ]
  },
  {
   "cell_type": "code",
   "execution_count": null,
   "id": "9b10b4b5",
   "metadata": {},
   "outputs": [],
   "source": [
    "open_pdf.metadata()"
   ]
  },
  {
   "cell_type": "code",
   "execution_count": 20,
   "id": "461b4d62",
   "metadata": {},
   "outputs": [],
   "source": [
    "def get_total_pages(target_pdf_file: str):\n",
    "    pdf_file_obj = open(target_pdf_file, 'rb')\n",
    "    pdf_reader = PyPDF2.PdfReader(pdf_file_obj)\n",
    "    return len(pdf_reader.pages)"
   ]
  },
  {
   "cell_type": "code",
   "execution_count": 21,
   "id": "f249779b",
   "metadata": {},
   "outputs": [
    {
     "data": {
      "text/plain": [
       "1"
      ]
     },
     "execution_count": 21,
     "metadata": {},
     "output_type": "execute_result"
    }
   ],
   "source": [
    "get_total_pages('Sudhanshu_sharma_resume.pdf')"
   ]
  },
  {
   "cell_type": "code",
   "execution_count": null,
   "id": "b18e2152",
   "metadata": {},
   "outputs": [],
   "source": [
    "text = ['  ',\n",
    " ' ',\n",
    " 'Hinta -arviolausunto  ',\n",
    " 'Osoite  Atie 5, 33450 Siivikkala Kiinteistötunnus:  000-000-0-397-L1 ',\n",
    " '- ',\n",
    " '- Omakotitalo 5h, avokeittiö,  kph, s, 2 x wc, vh, khh, käyttöullakko,  varasto, autokatos ja terassi  ',\n",
    " 'Rakennusvuosi 2024  ',\n",
    " '-850m2 vuokratontilla, pihatyöt  keskeneräisiä  ',\n",
    " '-Huoneistoala 131m2, kerrosala 150m2  ',\n",
    " '-Lämmitysmuotona  on poistoilmalämpöpumppu,  vesikiertoisella lattialämmityksellä  ',\n",
    " 'Kiinteistön  markkinahinta on noin 383 000 € +/- 3%. ',\n",
    " 'Arvio perustuu kauppa -arvomenetelmään,  toteutuneiden kauppahintojen tilastotietoihin sekä  ',\n",
    " 'myyntikokemukseen Pirkanmaan alueelta.  ',\n",
    " 'Tampereella  19.4.2024  ',\n",
    " 'XXX Hiltunen  ',\n",
    " 'Kiinteistönvälittäjä  LKV ',\n",
    " 'XXX ',\n",
    " 'Muutos LKV / Pirkanmaan Laatuvälitys  Oy ꢀ  ',\n",
    " ' ꢀ  ']"
   ]
  },
  {
   "cell_type": "code",
   "execution_count": null,
   "id": "9ad08d41",
   "metadata": {},
   "outputs": [],
   "source": [
    "# df = pd.DataFrame(text, columns=[\"Items\"])\n",
    "# df\n",
    "\n",
    "df = pd.DataFrame()\n",
    "\n",
    "for i, value in enumerate(text):\n",
    "    df[f'Column {chr(65 + i)}'] = [value]\n",
    "\n",
    "# Output the DataFrame\n",
    "print(df)"
   ]
  },
  {
   "cell_type": "code",
   "execution_count": null,
   "id": "c03604c3",
   "metadata": {},
   "outputs": [],
   "source": [
    "# df_transposed = df.transpose()\n",
    "\n",
    "# # Rename the columns\n",
    "# df_transposed.columns = [f\"Column {i+1}\" for i in range(len(df_transposed.columns))]\n",
    "\n",
    "# # Output the transposed DataFrame\n",
    "# print(df_transposed)"
   ]
  },
  {
   "cell_type": "code",
   "execution_count": null,
   "id": "43d12907",
   "metadata": {},
   "outputs": [],
   "source": [
    "df.to_excel(\"output.xlsx\", index=False)"
   ]
  },
  {
   "cell_type": "code",
   "execution_count": null,
   "id": "ca447af1",
   "metadata": {},
   "outputs": [],
   "source": [
    "df"
   ]
  },
  {
   "cell_type": "code",
   "execution_count": null,
   "id": "7e219d0e",
   "metadata": {},
   "outputs": [],
   "source": []
  }
 ],
 "metadata": {
  "kernelspec": {
   "display_name": "Python 3",
   "language": "python",
   "name": "python3"
  },
  "language_info": {
   "codemirror_mode": {
    "name": "ipython",
    "version": 3
   },
   "file_extension": ".py",
   "mimetype": "text/x-python",
   "name": "python",
   "nbconvert_exporter": "python",
   "pygments_lexer": "ipython3",
   "version": "3.8.8"
  }
 },
 "nbformat": 4,
 "nbformat_minor": 5
}
