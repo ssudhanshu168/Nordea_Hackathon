{
 "cells": [
  {
   "cell_type": "code",
   "execution_count": 1,
   "id": "0e4291fa",
   "metadata": {},
   "outputs": [],
   "source": [
    "import PyPDF2 as pr\n",
    "import pandas as pd\n",
    "import numpy as np\n",
    "import re"
   ]
  },
  {
   "cell_type": "code",
   "execution_count": 376,
   "id": "23ab2d32",
   "metadata": {},
   "outputs": [],
   "source": [
    "file_name = 'Sudhanshu_sharma_resume.pdf'"
   ]
  },
  {
   "cell_type": "code",
   "execution_count": 377,
   "id": "7a30db18",
   "metadata": {},
   "outputs": [],
   "source": [
    "reader = open(file_name, 'rb')"
   ]
  },
  {
   "cell_type": "code",
   "execution_count": 378,
   "id": "07e9a298",
   "metadata": {},
   "outputs": [],
   "source": [
    "file = pr.PdfReader(reader)\n",
    "text = []"
   ]
  },
  {
   "cell_type": "code",
   "execution_count": 380,
   "id": "93fa06ad",
   "metadata": {},
   "outputs": [
    {
     "name": "stdout",
     "output_type": "stream",
     "text": [
      "SUMMARY\n",
      "Experienced professional with 1.5+ years of banking industry exposure and a background as a certified data analyst. Currently thriving as a PL/SQL Developer, leveraging\n",
      "my analytical skills to drive user growth and enhance user retention. Proficient in performing in-depth data analysis to provide actionable insights, facilitating sound\n",
      "decision-making, and producing error-free reports. Additionally, skilled in data mining and data visualization, delivering valuable business solutions to clients and\n",
      "consistently achieving project success.\n",
      "KEY SKILLS\n",
      "• Data Analysis • Stakeholder Management • Software Development  • Quality Assurance • Data Mining • Leadership & Training • Process Improvement \n",
      "                             • Data Visualization • SQL Expertise • Problem-Solving  • Performance Tuning • Agile/Scrum • ETL (Extract, Transform, Load) \n",
      "            • Capital Markets  • Programming  • Big Data  • Data Engineering • Machine Learning Methodologies • RDBMS  • NOSQL Databases  • Data Warehouses \n",
      "TECHNICAL SKILLS\n",
      "IIIT Bangalore: Spark, Python, SQL, Hive, Tableau, Hadoop, NOSQL, PLSQL, Apache Redshift, Unix/Linux, EC2, EMR, Bitbucket, Bamboo, JIRA, Git/Github,         \n",
      "  Apache HBase, Apache Flume, Apache Sqoop, Pyspark, Spark, SparkSQL, MS Excel (Advance)\n",
      "Cloud: Amazon AWS\n",
      "Database: Oracle 11g/19c, MS SQL Server, MySQL \n",
      "PROFESSIONAL EXPERIENCE\n",
      "Software Engineer -\n",
      "LTIMINDTREE\n",
      "Key Responsibilities-\n",
      "Data and Code Analysis:\n",
      "Development and Coding:\n",
      "Communication and Presentation:\n",
      "Quality Assurance and Improvement:\n",
      "KEY PROJECTS\n",
      "      Technology Stack - Python, Pandas, NumPy, Pandas, Matplotlib, \n",
      "      Seaborn,  Statsmodels, Scikit-learn\n",
      "      Domain - Finance\n",
      "      Description - This case study aims to build a Multiple Linear Regression model for the prediction of demand for shared bikes in the USA.\n",
      "      Technology Stack - Python, Pandas, NumPy, Matplotlib, Seaborn\n",
      "      Domain - Banking\n",
      "      Description- This case study aims to identify patterns which indicate if a client has difficulty paying their installments which may be used for taking actions such         \n",
      "      as denying the loan, reducing the amount of loan. In this case study we perform data visualization and data cleaning with the help of PYTHON.\n",
      "      Technology Stack - Python, Pandas, NumPy, Matplotlib, Seaborn\n",
      "      Domain - Banking\n",
      "      Description- This case study aims to perform the EDA on the given dataset to analyse the patterns and provide inferences/solutions for the future marketing \n",
      "      campaign.\n",
      "EDUCATION\n",
      "Post Graduate Diploma in Data Science -\n",
      "IIIT Bangalore\n",
      "Bachelor of Computer Application -\n",
      "MCU,Bhopal\n",
      "ADDITIONAL INFORMATIONSudhanshu Sharma\n",
      "+91 9582590543 sudhanshusharma168@gmail.com Delhi,IN www.linkedin.com/in/sudhanshusharma168\n",
      "Mar '22 Present\n",
      "Navi Mumbai, IN\n",
      "Coproduce in-depth data and code analysis to understand complex business requirements •\n",
      "Create and implement complex SQL queries and data manipulation operations to meet project objectives •\n",
      "Develop and maintain PL/SQL code components, including cursors, procedures, packages, triggers, and functions •\n",
      "Drive the design and development of efficient database solutions to support critical business processes •\n",
      "Ensure data integrity, security, and compliance with best practices in database development •\n",
      "Collaborate with cross-functional teams to translate technical requirements into actionable solutions for business stakeholders •\n",
      "Convey findings and solutions to business stakeholders in a clear and comprehensible manner •\n",
      "Participate in code reviews, debugging, and troubleshooting to maintain code quality and performance •\n",
      "Stay current with emerging technologies and industry trends to continuously improve coding practices and database development processes •\n",
      "Bike Rental Case Study •\n",
      "CREDIT EDA CASE STUDY •\n",
      "BANK MARKETING DATA ANALYSIS •\n",
      "Jul '21 Aug '22\n",
      "Bengaluru, IN\n",
      "Course Modules: •\n",
      "Data Analysis using SQL | Introduction to Python | Introduction to Machine Learning and Linear Regression ○\n",
      "IMDB Movie Case Study | Telecom Churn Case Study ○\n",
      "Business Problem Assignment | Building Automated Data Pipelines with Oozie/Airflow | Analytics using PySpark ○\n",
      "Secured 3.85 GPA •\n",
      "Jul '17 Oct '20\n",
      "New Delhi, IN\n",
      "Secured 7.9 CGPA •\n",
      "Languages - English (Professional FLuency), Spanish (Intermmediate), Hindi (Native) •\n"
     ]
    }
   ],
   "source": [
    "for i in range(len(file.pages)):\n",
    "    page = file.pages[i]\n",
    "    text= page.extract_text()\n",
    "    print(text)"
   ]
  },
  {
   "cell_type": "code",
   "execution_count": 20,
   "id": "9c6f6a96",
   "metadata": {},
   "outputs": [],
   "source": [
    "# def retrieve_text(pdf_path):\n",
    "    \n",
    "#     with open(pdf_path, 'rb') as file:\n",
    "        \n",
    "#         reader = PyPDF2.PdfReader(file)\n",
    "        \n",
    "#         # Initialize an empty string to store the extracted text\n",
    "#         text = \"\"\n",
    "        \n",
    "#         # Iterate through each page in the PDF\n",
    "#         for page_num in range(len(reader.pages)):\n",
    "#             # Get the page object\n",
    "#             page = reader.pages[page_num]\n",
    "            \n",
    "#             # Extract text from the page\n",
    "#             text += page.extract_text()\n",
    "        \n",
    "#         return text"
   ]
  },
  {
   "cell_type": "code",
   "execution_count": 40,
   "id": "0f1cf227",
   "metadata": {},
   "outputs": [],
   "source": [
    "def extract_property_info(text):\n",
    "    property_info = {}\n",
    "\n",
    "    # Define regular expressions for extracting information\n",
    "    property_id_pattern = r'Kiinteistötunnus: (\\d{3}-\\d{3}-\\d-\\d{3}-\\w\\d)'\n",
    "    address_pattern = r'Osoite\\s+(.+?)\\s+'\n",
    "    type_of_property_pattern = r'- (.+?)\\s+(\\d+h)'\n",
    "    building_year_pattern = r'Rakennusvuosi (\\d{4})'\n",
    "    plot_ownership_pattern = r'(-\\d+m2 vuokratontilla)'\n",
    "    living_area_pattern = r'-Huoneistoala (\\d+)m2'\n",
    "    primary_heating_source_pattern = r'-Lämmitysmuotona on (.+?)\\,'\n",
    "    market_value_pattern = r'noin (\\d+ ?\\d*) €'\n",
    "    valuation_date_pattern = r'Tampereella\\s+(\\d{1,2}\\.\\d{1,2}\\.\\d{4})'\n",
    "    real_estate_agent_pattern = r'([A-Z]+ [A-Z]+)\\s+'\n",
    "\n",
    "    # Extract information using regular expressions\n",
    "    property_info['Property ID'] = re.search(property_id_pattern, text).group(1) if re.search(property_id_pattern, text) else None\n",
    "    property_info['Address'] = re.search(address_pattern, text).group(1) if re.search(address_pattern, text) else None\n",
    "    type_of_property_match = re.search(type_of_property_pattern, text)\n",
    "    property_info['Type of Property'] = type_of_property_match.group(1) if type_of_property_match else None\n",
    "    property_info['Number of Rooms'] = type_of_property_match.group(2) if type_of_property_match else None\n",
    "    property_info['Building Year'] = re.search(building_year_pattern, text).group(1) if re.search(building_year_pattern, text) else None\n",
    "    property_info['Plot Ownership'] = 'Leasehold' if re.search(plot_ownership_pattern, text) else None\n",
    "    property_info['Living Area'] = re.search(living_area_pattern, text).group(1) if re.search(living_area_pattern, text) else None\n",
    "    property_info['Primary Heating Source'] = re.search(primary_heating_source_pattern, text).group(1) if re.search(primary_heating_source_pattern, text) else None\n",
    "    property_info['Market Value'] = re.search(market_value_pattern, text).group(1) if re.search(market_value_pattern, text) else None\n",
    "    property_info['Valuation Date'] = re.search(valuation_date_pattern, text).group(1) if re.search(valuation_date_pattern, text) else None\n",
    "    property_info['Real Estate Agent'] = re.search(real_estate_agent_pattern, text).group(1) if re.search(real_estate_agent_pattern, text) else None\n",
    "\n",
    "    return property_info\n"
   ]
  },
  {
   "cell_type": "code",
   "execution_count": 311,
   "id": "c29c704e",
   "metadata": {},
   "outputs": [],
   "source": [
    "text = ['  ',\n",
    " ' ',\n",
    " 'Hinta -arviolausunto  ',\n",
    " '- ',\n",
    " 'Kiinteistön  markkinahinta on noin 92 000000   000  € +/- 3%. ',\n",
    " '- Omakotitalo 5h, avokeittiö,  kph, s, 2 x wc, vh, khh, käyttöullakko,  varasto, autokatos ja terassi  ',\n",
    " ' 2024 valmistunut ',\n",
    " '-850m2 vuokratontilla, pihatyöt  keskeneräisiä  ',\n",
    " '-pinta-ala on 131m2, kerrosala 150m2  ',\n",
    " '-Lämmitysmuotona  on poistoilmalämpöpumppu,  vesikiertoisella lattialämmityksellä  ',\n",
    " 'Kiinteistön  markkinahinta on noin 38 000000   000  € +/- 3%. ',\n",
    " 'Arvio perustuu kauppa -arvomenetelmään,  toteutuneiden kauppahintojen tilastotietoihin sekä  ',\n",
    " 'myyntikokemukseen Pirkanmaan alueelta.  ',\n",
    " 'Tampereella  19.4.2024  ',\n",
    " 'XXX Hiltunen  ',\n",
    " 'Kiinteistönvälittäjä  LKV ',\n",
    " 'XXX ',\n",
    " 'Muutos LKV / Pirkanmaan Laatuvälitys  Oy ꢀ  ',\n",
    "        'Osoite  Atie 5, 33450 Siivikkala Kiinteistötunnus:  000-000-0-397-L1 ',\n",
    " ' ꢀ  ']"
   ]
  },
  {
   "cell_type": "code",
   "execution_count": 381,
   "id": "ba25cef8",
   "metadata": {},
   "outputs": [],
   "source": [
    "text = ' '.join(text)\n",
    "#property_information = {}"
   ]
  },
  {
   "cell_type": "code",
   "execution_count": 382,
   "id": "d58d33f0",
   "metadata": {},
   "outputs": [
    {
     "data": {
      "text/plain": [
       "\"S U M M A R Y \\n E x p e r i e n c e d   p r o f e s s i o n a l   w i t h   1 . 5 +   y e a r s   o f   b a n k i n g   i n d u s t r y   e x p o s u r e   a n d   a   b a c k g r o u n d   a s   a   c e r t i f i e d   d a t a   a n a l y s t .   C u r r e n t l y   t h r i v i n g   a s   a   P L / S Q L   D e v e l o p e r ,   l e v e r a g i n g \\n m y   a n a l y t i c a l   s k i l l s   t o   d r i v e   u s e r   g r o w t h   a n d   e n h a n c e   u s e r   r e t e n t i o n .   P r o f i c i e n t   i n   p e r f o r m i n g   i n - d e p t h   d a t a   a n a l y s i s   t o   p r o v i d e   a c t i o n a b l e   i n s i g h t s ,   f a c i l i t a t i n g   s o u n d \\n d e c i s i o n - m a k i n g ,   a n d   p r o d u c i n g   e r r o r - f r e e   r e p o r t s .   A d d i t i o n a l l y ,   s k i l l e d   i n   d a t a   m i n i n g   a n d   d a t a   v i s u a l i z a t i o n ,   d e l i v e r i n g   v a l u a b l e   b u s i n e s s   s o l u t i o n s   t o   c l i e n t s   a n d \\n c o n s i s t e n t l y   a c h i e v i n g   p r o j e c t   s u c c e s s . \\n K E Y   S K I L L S \\n •   D a t a   A n a l y s i s   •   S t a k e h o l d e r   M a n a g e m e n t   •   S o f t w a r e   D e v e l o p m e n t     •   Q u a l i t y   A s s u r a n c e   •   D a t a   M i n i n g   •   L e a d e r s h i p   &   T r a i n i n g   •   P r o c e s s   I m p r o v e m e n t   \\n                                                           •   D a t a   V i s u a l i z a t i o n   •   S Q L   E x p e r t i s e   •   P r o b l e m - S o l v i n g     •   P e r f o r m a n c e   T u n i n g   •   A g i l e / S c r u m   •   E T L   ( E x t r a c t ,   T r a n s f o r m ,   L o a d )   \\n                         •   C a p i t a l   M a r k e t s     •   P r o g r a m m i n g     •   B i g   D a t a     •   D a t a   E n g i n e e r i n g   •   M a c h i n e   L e a r n i n g   M e t h o d o l o g i e s   •   R D B M S     •   N O S Q L   D a t a b a s e s     •   D a t a   W a r e h o u s e s   \\n T E C H N I C A L   S K I L L S \\n I I I T   B a n g a l o r e :   S p a r k ,   P y t h o n ,   S Q L ,   H i v e ,   T a b l e a u ,   H a d o o p ,   N O S Q L ,   P L S Q L ,   A p a c h e   R e d s h i f t ,   U n i x / L i n u x ,   E C 2 ,   E M R ,   B i t b u c k e t ,   B a m b o o ,   J I R A ,   G i t / G i t h u b ,                   \\n     A p a c h e   H B a s e ,   A p a c h e   F l u m e ,   A p a c h e   S q o o p ,   P y s p a r k ,   S p a r k ,   S p a r k S Q L ,   M S   E x c e l   ( A d v a n c e ) \\n C l o u d :   A m a z o n   A W S \\n D a t a b a s e :   O r a c l e   1 1 g / 1 9 c ,   M S   S Q L   S e r v e r ,   M y S Q L   \\n P R O F E S S I O N A L   E X P E R I E N C E \\n S o f t w a r e   E n g i n e e r   - \\n L T I M I N D T R E E \\n K e y   R e s p o n s i b i l i t i e s - \\n D a t a   a n d   C o d e   A n a l y s i s : \\n D e v e l o p m e n t   a n d   C o d i n g : \\n C o m m u n i c a t i o n   a n d   P r e s e n t a t i o n : \\n Q u a l i t y   A s s u r a n c e   a n d   I m p r o v e m e n t : \\n K E Y   P R O J E C T S \\n             T e c h n o l o g y   S t a c k   -   P y t h o n ,   P a n d a s ,   N u m P y ,   P a n d a s ,   M a t p l o t l i b ,   \\n             S e a b o r n ,     S t a t s m o d e l s ,   S c i k i t - l e a r n \\n             D o m a i n   -   F i n a n c e \\n             D e s c r i p t i o n   -   T h i s   c a s e   s t u d y   a i m s   t o   b u i l d   a   M u l t i p l e   L i n e a r   R e g r e s s i o n   m o d e l   f o r   t h e   p r e d i c t i o n   o f   d e m a n d   f o r   s h a r e d   b i k e s   i n   t h e   U S A . \\n             T e c h n o l o g y   S t a c k   -   P y t h o n ,   P a n d a s ,   N u m P y ,   M a t p l o t l i b ,   S e a b o r n \\n             D o m a i n   -   B a n k i n g \\n             D e s c r i p t i o n -   T h i s   c a s e   s t u d y   a i m s   t o   i d e n t i f y   p a t t e r n s   w h i c h   i n d i c a t e   i f   a   c l i e n t   h a s   d i f f i c u l t y   p a y i n g   t h e i r   i n s t a l l m e n t s   w h i c h   m a y   b e   u s e d   f o r   t a k i n g   a c t i o n s   s u c h                   \\n             a s   d e n y i n g   t h e   l o a n ,   r e d u c i n g   t h e   a m o u n t   o f   l o a n .   I n   t h i s   c a s e   s t u d y   w e   p e r f o r m   d a t a   v i s u a l i z a t i o n   a n d   d a t a   c l e a n i n g   w i t h   t h e   h e l p   o f   P Y T H O N . \\n             T e c h n o l o g y   S t a c k   -   P y t h o n ,   P a n d a s ,   N u m P y ,   M a t p l o t l i b ,   S e a b o r n \\n             D o m a i n   -   B a n k i n g \\n             D e s c r i p t i o n -   T h i s   c a s e   s t u d y   a i m s   t o   p e r f o r m   t h e   E D A   o n   t h e   g i v e n   d a t a s e t   t o   a n a l y s e   t h e   p a t t e r n s   a n d   p r o v i d e   i n f e r e n c e s / s o l u t i o n s   f o r   t h e   f u t u r e   m a r k e t i n g   \\n             c a m p a i g n . \\n E D U C A T I O N \\n P o s t   G r a d u a t e   D i p l o m a   i n   D a t a   S c i e n c e   - \\n I I I T   B a n g a l o r e \\n B a c h e l o r   o f   C o m p u t e r   A p p l i c a t i o n   - \\n M C U , B h o p a l \\n A D D I T I O N A L   I N F O R M A T I O N S u d h a n s h u   S h a r m a \\n + 9 1   9 5 8 2 5 9 0 5 4 3   s u d h a n s h u s h a r m a 1 6 8 @ g m a i l . c o m   D e l h i , I N   w w w . l i n k e d i n . c o m / i n / s u d h a n s h u s h a r m a 1 6 8 \\n M a r   ' 2 2   P r e s e n t \\n N a v i   M u m b a i ,   I N \\n C o p r o d u c e   i n - d e p t h   d a t a   a n d   c o d e   a n a l y s i s   t o   u n d e r s t a n d   c o m p l e x   b u s i n e s s   r e q u i r e m e n t s   • \\n C r e a t e   a n d   i m p l e m e n t   c o m p l e x   S Q L   q u e r i e s   a n d   d a t a   m a n i p u l a t i o n   o p e r a t i o n s   t o   m e e t   p r o j e c t   o b j e c t i v e s   • \\n D e v e l o p   a n d   m a i n t a i n   P L / S Q L   c o d e   c o m p o n e n t s ,   i n c l u d i n g   c u r s o r s ,   p r o c e d u r e s ,   p a c k a g e s ,   t r i g g e r s ,   a n d   f u n c t i o n s   • \\n D r i v e   t h e   d e s i g n   a n d   d e v e l o p m e n t   o f   e f f i c i e n t   d a t a b a s e   s o l u t i o n s   t o   s u p p o r t   c r i t i c a l   b u s i n e s s   p r o c e s s e s   • \\n E n s u r e   d a t a   i n t e g r i t y ,   s e c u r i t y ,   a n d   c o m p l i a n c e   w i t h   b e s t   p r a c t i c e s   i n   d a t a b a s e   d e v e l o p m e n t   • \\n C o l l a b o r a t e   w i t h   c r o s s - f u n c t i o n a l   t e a m s   t o   t r a n s l a t e   t e c h n i c a l   r e q u i r e m e n t s   i n t o   a c t i o n a b l e   s o l u t i o n s   f o r   b u s i n e s s   s t a k e h o l d e r s   • \\n C o n v e y   f i n d i n g s   a n d   s o l u t i o n s   t o   b u s i n e s s   s t a k e h o l d e r s   i n   a   c l e a r   a n d   c o m p r e h e n s i b l e   m a n n e r   • \\n P a r t i c i p a t e   i n   c o d e   r e v i e w s ,   d e b u g g i n g ,   a n d   t r o u b l e s h o o t i n g   t o   m a i n t a i n   c o d e   q u a l i t y   a n d   p e r f o r m a n c e   • \\n S t a y   c u r r e n t   w i t h   e m e r g i n g   t e c h n o l o g i e s   a n d   i n d u s t r y   t r e n d s   t o   c o n t i n u o u s l y   i m p r o v e   c o d i n g   p r a c t i c e s   a n d   d a t a b a s e   d e v e l o p m e n t   p r o c e s s e s   • \\n B i k e   R e n t a l   C a s e   S t u d y   • \\n C R E D I T   E D A   C A S E   S T U D Y   • \\n B A N K   M A R K E T I N G   D A T A   A N A L Y S I S   • \\n J u l   ' 2 1   A u g   ' 2 2 \\n B e n g a l u r u ,   I N \\n C o u r s e   M o d u l e s :   • \\n D a t a   A n a l y s i s   u s i n g   S Q L   |   I n t r o d u c t i o n   t o   P y t h o n   |   I n t r o d u c t i o n   t o   M a c h i n e   L e a r n i n g   a n d   L i n e a r   R e g r e s s i o n   ○ \\n I M D B   M o v i e   C a s e   S t u d y   |   T e l e c o m   C h u r n   C a s e   S t u d y   ○ \\n B u s i n e s s   P r o b l e m   A s s i g n m e n t   |   B u i l d i n g   A u t o m a t e d   D a t a   P i p e l i n e s   w i t h   O o z i e / A i r f l o w   |   A n a l y t i c s   u s i n g   P y S p a r k   ○ \\n S e c u r e d   3 . 8 5   G P A   • \\n J u l   ' 1 7   O c t   ' 2 0 \\n N e w   D e l h i ,   I N \\n S e c u r e d   7 . 9   C G P A   • \\n L a n g u a g e s   -   E n g l i s h   ( P r o f e s s i o n a l   F L u e n c y ) ,   S p a n i s h   ( I n t e r m m e d i a t e ) ,   H i n d i   ( N a t i v e )   •\""
      ]
     },
     "execution_count": 382,
     "metadata": {},
     "output_type": "execute_result"
    }
   ],
   "source": [
    "text\n",
    "\n",
    "#extract_property_info(ext_text)"
   ]
  },
  {
   "cell_type": "code",
   "execution_count": 141,
   "id": "927674b2",
   "metadata": {},
   "outputs": [],
   "source": [
    "property_id_pattern = r'Kiinteistötunnus:\\s+\\d{3}-\\d{3}-\\d-\\d{3}-\\w\\d'\n",
    "property_info = {}"
   ]
  },
  {
   "cell_type": "code",
   "execution_count": 4,
   "id": "72fe4d44",
   "metadata": {},
   "outputs": [
    {
     "name": "stdout",
     "output_type": "stream",
     "text": [
      "     Hinta -arviolausunto   -  - Omakotitalo 5h, avokeittiö,  kph, s, 2 x wc, vh, khh, käyttöullakko,  varasto, autokatos ja terassi   Rakennusvuosi 2024   -850m2 vuokratontilla, pihatyöt  keskeneräisiä   -Huoneistoala 131m2, kerrosala 150m2   -Lämmitysmuotona  on poistoilmalämpöpumppu,  vesikiertoisella lattialämmityksellä   Kiinteistön  markkinahinta on noin 383 000 € +/- 3%.  Arvio perustuu kauppa -arvomenetelmään,  toteutuneiden kauppahintojen tilastotietoihin sekä   myyntikokemukseen Pirkanmaan alueelta.   Tampereella  19.4.2024   XXX Hiltunen   Kiinteistönvälittäjä  LKV  XXX  Muutos LKV / Pirkanmaan Laatuvälitys  Oy ꢀ   Osoite  Atie 5, 33450 Siivikkala Kiinteistötunnus:  000-000-0-397-L1   ꢀ  \n"
     ]
    }
   ],
   "source": [
    "print(text)"
   ]
  },
  {
   "cell_type": "code",
   "execution_count": 192,
   "id": "1cdcea14",
   "metadata": {},
   "outputs": [
    {
     "name": "stdout",
     "output_type": "stream",
     "text": [
      "Kiinteistötunnus:  000-000-0-397-L1\n"
     ]
    }
   ],
   "source": [
    "mm= re.search(property_id_pattern, text).group()\n",
    "print(mm)"
   ]
  },
  {
   "cell_type": "code",
   "execution_count": 193,
   "id": "a89f9241",
   "metadata": {},
   "outputs": [
    {
     "name": "stdout",
     "output_type": "stream",
     "text": [
      "000-000-0-397-L1\n"
     ]
    }
   ],
   "source": [
    "print(mm.split()[1])"
   ]
  },
  {
   "cell_type": "code",
   "execution_count": 194,
   "id": "af6f9ba4",
   "metadata": {},
   "outputs": [
    {
     "data": {
      "text/plain": [
       "{'Property ID': '000-000-0-397-L1'}"
      ]
     },
     "execution_count": 194,
     "metadata": {},
     "output_type": "execute_result"
    }
   ],
   "source": [
    "property_info['Property ID'] = re.search(property_id_pattern, text).group().split()[1]\n",
    "property_info"
   ]
  },
  {
   "cell_type": "code",
   "execution_count": 164,
   "id": "dd6b9a73",
   "metadata": {},
   "outputs": [
    {
     "name": "stdout",
     "output_type": "stream",
     "text": [
      "Atie 5\n"
     ]
    }
   ],
   "source": [
    "# Regular expression pattern to search for\n",
    "pattern =  r'Osoite\\s+([^,]+)'  # extract anything after Osoite\n",
    "\n",
    "\n",
    "# Search for the pattern in the text\n",
    "match = re.search(pattern, text).group(1)\n",
    "\n",
    "print(match)"
   ]
  },
  {
   "cell_type": "markdown",
   "id": "2e3e8c68",
   "metadata": {},
   "source": [
    "plot_ownership_pattern = r'vuokratontilla' # Assuming \"vuokratontilla\" indicates leasehold\n",
    "ownership = re.search(plot_ownership_pattern, text).group()\n",
    "print(ownership)\n",
    "type_of_property_pattern = r'Omakotitalo'\n",
    "type_pattern = re.search(type_of_property_pattern, text).group()\n",
    "print(type_pattern)"
   ]
  },
  {
   "cell_type": "code",
   "execution_count": 181,
   "id": "3c605bac",
   "metadata": {},
   "outputs": [],
   "source": [
    "muncipality = r'Osoite\\s+([^,]+),([^,]+)'"
   ]
  },
  {
   "cell_type": "code",
   "execution_count": 200,
   "id": "5ed3eb68",
   "metadata": {},
   "outputs": [
    {
     "name": "stdout",
     "output_type": "stream",
     "text": [
      "Osoite  Atie 5, 33450 Siivikkala Kiinteistötunnus:  000-000-0-397-L1   ꢀ  \n"
     ]
    }
   ],
   "source": [
    "match2 = re.search(muncipality, text).group()\n",
    "print(match2)"
   ]
  },
  {
   "cell_type": "code",
   "execution_count": 201,
   "id": "104fb105",
   "metadata": {},
   "outputs": [
    {
     "name": "stdout",
     "output_type": "stream",
     "text": [
      "33450\n",
      "Siivikkala\n"
     ]
    }
   ],
   "source": [
    "code_pattern = r'(\\b\\w{5}\\b) (\\w+)'\n",
    "postal_code = re.search(code_pattern, match2).group(1)\n",
    "print(postal_code)\n",
    "muncipality_name = re.search(code_pattern, match2).group(2)\n",
    "print(muncipality_name)"
   ]
  },
  {
   "cell_type": "code",
   "execution_count": 15,
   "id": "25fe34a2",
   "metadata": {},
   "outputs": [
    {
     "name": "stdout",
     "output_type": "stream",
     "text": [
      "Rakennusvuosi 2024\n",
      "131\n",
      "150\n",
      "2024\n"
     ]
    }
   ],
   "source": [
    "value_year_pattern = r'Rakennusvuosi (\\d{4})'\n",
    "postal_code1 = re.search(value_year_pattern, text).group(1)\n",
    "print(postal_code1)\n",
    "living_area_pattern = r'Huoneistoala (\\d+)m2'\n",
    "postal_code2 = re.search(living_area_pattern, text).group(1)\n",
    "print(postal_code2)\n",
    "secondary_area_pattern = r'kerrosala (\\d+)m2'\n",
    "postal_code3 = re.search(secondary_area_pattern, text).group(1)\n",
    "print(postal_code3)\n",
    "building_year_pattern = r'Rakennusvuosi (\\d{4})'\n",
    "postal_code4 = re.search(building_year_pattern, text).group(1)\n",
    "print(postal_code4)"
   ]
  },
  {
   "cell_type": "code",
   "execution_count": 45,
   "id": "ab0b5c9f",
   "metadata": {},
   "outputs": [],
   "source": [
    "agent_name_pattern = r'Kiinteistönvälittäjä\\s+([^,])+'"
   ]
  },
  {
   "cell_type": "code",
   "execution_count": 47,
   "id": "e8fe7fcf",
   "metadata": {},
   "outputs": [
    {
     "name": "stdout",
     "output_type": "stream",
     "text": [
      "Kiinteistönvälittäjä  LKV  XXX  Muutos LKV / Pirkanmaan Laatuvälitys  Oy ꢀ   Osoite  Atie 5\n"
     ]
    }
   ],
   "source": [
    "xy = re.search(agent_name_pattern,text).group()\n",
    "print(xy)"
   ]
  },
  {
   "cell_type": "code",
   "execution_count": null,
   "id": "d89de0be",
   "metadata": {},
   "outputs": [],
   "source": [
    "19/04/2024"
   ]
  },
  {
   "cell_type": "code",
   "execution_count": 40,
   "id": "7249d26c",
   "metadata": {},
   "outputs": [],
   "source": [
    "# rooms_pattern = r'(\\d+)h'\n",
    "# # print(re.search(rooms_pattern,text).group())\n",
    "primary_heating_source_pattern = r'Lämmitysmuotona\\s+on\\s+([^,]+)'\n"
   ]
  },
  {
   "cell_type": "code",
   "execution_count": 41,
   "id": "82ac7e82",
   "metadata": {},
   "outputs": [
    {
     "name": "stdout",
     "output_type": "stream",
     "text": [
      "poistoilmalämpöpumppu\n"
     ]
    }
   ],
   "source": [
    "prr = re.search(primary_heating_source_pattern,text).group(1)\n",
    "print(prr)"
   ]
  },
  {
   "cell_type": "code",
   "execution_count": 129,
   "id": "e7b7e928",
   "metadata": {},
   "outputs": [],
   "source": [
    "def market_amount(text):\n",
    " \n",
    "    pattern = re.compile(r'(\\d{1,3}(?:[ .,]\\d{3})*)\\s*(?:€|euroa)', flags=re.IGNORECASE)\n",
    " \n",
    "    matches = pattern.findall(text)\n",
    " \n",
    "    if matches:\n",
    "        return matches[-1].replace(\" \", \"\").replace(\",\", \"\").replace(\".\", \"\").replace(\"  \",\"\")\n",
    "    else:\n",
    "        return None\n",
    " \n",
    "text = property_information['Market value']\n",
    " \n",
    "amount = market_amount(text)\n",
    " \n",
    "if amount:\n",
    "    property_information['Market value'] = amount\n",
    "else:\n",
    "    property_information['Market value'] = None"
   ]
  },
  {
   "cell_type": "code",
   "execution_count": 130,
   "id": "2358bd77",
   "metadata": {},
   "outputs": [
    {
     "name": "stdout",
     "output_type": "stream",
     "text": [
      "None\n"
     ]
    }
   ],
   "source": [
    "print(property_information['Market value'])"
   ]
  },
  {
   "cell_type": "code",
   "execution_count": 27,
   "id": "267c3ea8",
   "metadata": {},
   "outputs": [
    {
     "name": "stdout",
     "output_type": "stream",
     "text": [
      "5\n"
     ]
    }
   ],
   "source": [
    "rr = re.search(rooms_pattern,text).group(1)\n",
    "print(rr)"
   ]
  },
  {
   "cell_type": "code",
   "execution_count": 117,
   "id": "1e6ae3a0",
   "metadata": {},
   "outputs": [],
   "source": [
    "valuation_date_pattern = r'noin (\\d+ ?\\d*) €'"
   ]
  },
  {
   "cell_type": "code",
   "execution_count": 118,
   "id": "4ec11f0f",
   "metadata": {},
   "outputs": [
    {
     "data": {
      "text/plain": [
       "'383 000'"
      ]
     },
     "execution_count": 118,
     "metadata": {},
     "output_type": "execute_result"
    }
   ],
   "source": [
    "re.search(valuation_date_pattern,text).group(1)"
   ]
  },
  {
   "cell_type": "code",
   "execution_count": 122,
   "id": "f5e4bb82",
   "metadata": {},
   "outputs": [],
   "source": [
    "def extract_info(extracted_text):\n",
    "    property_information = {}\n",
    "    \n",
    "    #defining the regular expression for each column\n",
    "    property_id_pattern = r'Kiinteistötunnus:\\s+\\d{3}-\\d{3}-\\d-\\d{3}-\\w\\d'\n",
    "    Address_pattern =  r'Osoite\\s+([^,]+)'    #address\n",
    "    muncipality = r'Osoite\\s+([^,]+),([^,]+)' #Address\n",
    "    code_pattern = r'(\\b\\w{5}\\b) (\\w+)'   #postal_code\n",
    "    plot_ownership_pattern = r'vuokratontilla' #ownership pattern\n",
    "    type_of_property_pattern = r'Omakotitalo' #type of property pattern\n",
    "    value_year_pattern = r'arvostettu\\s+arvostettu(\\d{4})'  #value year & building year pattern\n",
    "    living_area_pattern = r'Huoneistoala (\\d+)m2'\n",
    "    building_year_pattern = r'Rakennusvuosi (\\d{4})'\n",
    "    secondary_area_pattern = r'kerrosala (\\d+)m2'\n",
    "    valuation_date_pattern = r'Tampereella\\s+(\\d+\\.\\d+\\.\\d+)'\n",
    "    market_value_pattern = r'noin (\\d+ ?\\d*) €'\n",
    "    rooms_pattern = r'(\\d+)h,'\n",
    "    primary_heating_source_pattern = r'Lämmitysmuotona\\s+on\\s+([^,]+)'\n",
    "    condition_pattern = r'kunto\\s+on\\s+([^,])+'\n",
    "    agent_name_pattern = r'Kiinteistönvälittäjä'\n",
    "    \n",
    "    #Extracting the information using the regular expression.\n",
    "    property_information['Property ID']= re.search(property_id_pattern, text).group().split()[1] if re.search(property_id_pattern, text) else None\n",
    "    property_information['Address'] = re.search(Address_pattern, text).group(1) if re.search(Address_pattern, text) else None\n",
    "    \n",
    "    #for extracting Muncipality and Postal_code information we need to store the result in new variable\n",
    "    muncipality_code = re.search(muncipality, text).group()\n",
    "    property_information['Municipality'] = re.search(code_pattern, muncipality_code).group(2) if re.search(code_pattern, muncipality_code) else None\n",
    "    property_information['Postal code'] = re.search(code_pattern, muncipality_code).group(1) if re.search(code_pattern, muncipality_code) else None\n",
    "    \n",
    "    property_information['Plot ownership'] = 'Leasehold' if re.search(plot_ownership_pattern, text).group() else 'Owned'\n",
    "    property_information['Type of property'] = 'Single family house' if re.search(type_of_property_pattern, text).group() else 'Mulitple Family house'\n",
    "    \n",
    "    property_information['Value year'] = re.search(value_year_pattern,text).group(1) if re.search(value_year_pattern,text) else None\n",
    "    property_information['Living area'] = re.search(living_area_pattern,text).group(1) if re.search(living_area_pattern,text) else None\n",
    "    property_information['Secondary area'] = re.search(secondary_area_pattern,text).group(1) if re.search(secondary_area_pattern,text) else None\n",
    "    property_information['Building year'] = re.search(building_year_pattern,text).group(1) if re.search(building_year_pattern,text) else None\n",
    "    property_information['Valuation date'] = re.search(valuation_date_pattern,text).group(1) if re.search(valuation_date_pattern,text) else None\n",
    "    property_information['Market value'] = re.search(market_value_pattern,text).group(1) if re.search(market_value_pattern,text) else None\n",
    "    property_information['Number of rooms'] = re.search(rooms_pattern,text).group(1) if re.search(rooms_pattern,text) else None\n",
    "    property_information['Primary heating source'] = re.search(primary_heating_source_pattern,text).group(1) if re.search(primary_heating_source_pattern,text) else None\n",
    "    property_information['Condition'] = re.search(condition_pattern,text).group(1) if re.search(condition_pattern,text) else None\n",
    "    property_information['External appraiser name'] = re.search(condition_pattern,text).group(1) if re.search(code_pattern, text) else None\n",
    "    property_information['External appraiser company'] = re.search(condition_pattern,text).group(1) if re.search(code_pattern, text) else None\n",
    "    return property_information\n",
    "    \n",
    "    \n",
    "\n",
    "# Market value\n",
    "# Number of rooms\n",
    "# Primary heating source\n",
    "# Condition\n",
    "# External appraiser name\n",
    "# External appraiser company\n",
    "# Example from file Finnish1Masked\n"
   ]
  },
  {
   "cell_type": "code",
   "execution_count": 123,
   "id": "f7ea266d",
   "metadata": {},
   "outputs": [
    {
     "data": {
      "text/plain": [
       "{'Property ID': '000-000-0-397-L1',\n",
       " 'Address': 'Atie 5',\n",
       " 'Municipality': 'Siivikkala',\n",
       " 'Postal code': '33450',\n",
       " 'Plot ownership': 'Leasehold',\n",
       " 'Type of property': 'Single family house',\n",
       " 'Value year': None,\n",
       " 'Living area': '131',\n",
       " 'Secondary area': '150',\n",
       " 'Building year': '2024',\n",
       " 'Valuation date': '19.4.2024',\n",
       " 'Market value': '383 000',\n",
       " 'Number of rooms': '5',\n",
       " 'Primary heating source': 'poistoilmalämpöpumppu',\n",
       " 'Condition': None}"
      ]
     },
     "execution_count": 123,
     "metadata": {},
     "output_type": "execute_result"
    }
   ],
   "source": [
    "property_information = extract_info(text)\n",
    "property_information"
   ]
  },
  {
   "cell_type": "code",
   "execution_count": 119,
   "id": "b949413e",
   "metadata": {},
   "outputs": [
    {
     "data": {
      "text/html": [
       "<div>\n",
       "<style scoped>\n",
       "    .dataframe tbody tr th:only-of-type {\n",
       "        vertical-align: middle;\n",
       "    }\n",
       "\n",
       "    .dataframe tbody tr th {\n",
       "        vertical-align: top;\n",
       "    }\n",
       "\n",
       "    .dataframe thead th {\n",
       "        text-align: right;\n",
       "    }\n",
       "</style>\n",
       "<table border=\"1\" class=\"dataframe\">\n",
       "  <thead>\n",
       "    <tr style=\"text-align: right;\">\n",
       "      <th></th>\n",
       "      <th>Property ID</th>\n",
       "      <th>Address</th>\n",
       "      <th>Municipality</th>\n",
       "      <th>Postal code</th>\n",
       "      <th>Plot ownership</th>\n",
       "      <th>Type of property</th>\n",
       "      <th>Value year</th>\n",
       "      <th>Living area</th>\n",
       "      <th>Secondary area</th>\n",
       "      <th>Building year</th>\n",
       "      <th>Valuation date</th>\n",
       "      <th>Market value</th>\n",
       "      <th>Number of rooms</th>\n",
       "      <th>Primary heating source</th>\n",
       "      <th>Condition</th>\n",
       "    </tr>\n",
       "  </thead>\n",
       "  <tbody>\n",
       "    <tr>\n",
       "      <th>0</th>\n",
       "      <td>000-000-0-397-L1</td>\n",
       "      <td>Atie 5</td>\n",
       "      <td>Siivikkala</td>\n",
       "      <td>33450</td>\n",
       "      <td>Leasehold</td>\n",
       "      <td>Single family house</td>\n",
       "      <td>2024</td>\n",
       "      <td>131</td>\n",
       "      <td>150</td>\n",
       "      <td>2024</td>\n",
       "      <td>19.4.2024</td>\n",
       "      <td>383 000</td>\n",
       "      <td>5</td>\n",
       "      <td>poistoilmalämpöpumppu</td>\n",
       "      <td>None</td>\n",
       "    </tr>\n",
       "  </tbody>\n",
       "</table>\n",
       "</div>"
      ],
      "text/plain": [
       "        Property ID Address Municipality Postal code Plot ownership  \\\n",
       "0  000-000-0-397-L1  Atie 5   Siivikkala       33450      Leasehold   \n",
       "\n",
       "      Type of property Value year Living area Secondary area Building year  \\\n",
       "0  Single family house       2024         131            150          2024   \n",
       "\n",
       "  Valuation date Market value Number of rooms Primary heating source Condition  \n",
       "0      19.4.2024      383 000               5  poistoilmalämpöpumppu      None  "
      ]
     },
     "execution_count": 119,
     "metadata": {},
     "output_type": "execute_result"
    }
   ],
   "source": [
    "exl = pd.DataFrame(property_information,index=[0])\n",
    "exl.head()"
   ]
  },
  {
   "cell_type": "code",
   "execution_count": null,
   "id": "e988003a",
   "metadata": {},
   "outputs": [],
   "source": [
    "exl.to_excel(\"output.xlsx\", index=False)"
   ]
  },
  {
   "cell_type": "code",
   "execution_count": 139,
   "id": "d3c5586a",
   "metadata": {},
   "outputs": [],
   "source": [
    "pattern1 = re.compile(r'Osoite\\s+([^,]+)')\n",
    "pattern2 = re.compile(r'osoitteessa\\s+([^,]+)')"
   ]
  },
  {
   "cell_type": "code",
   "execution_count": 140,
   "id": "276656c9",
   "metadata": {},
   "outputs": [
    {
     "name": "stdout",
     "output_type": "stream",
     "text": [
      "At least one pattern matched.\n"
     ]
    }
   ],
   "source": [
    "if pattern1.search(text) or pattern2.search(text):\n",
    "    # Execute code if any of the patterns match\n",
    "    print(re.search(primary_heating_source_pattern,text).group(1))"
   ]
  },
  {
   "cell_type": "code",
   "execution_count": 141,
   "id": "f7c317cb",
   "metadata": {},
   "outputs": [
    {
     "name": "stdout",
     "output_type": "stream",
     "text": [
      "Atie 5\n"
     ]
    }
   ],
   "source": [
    "print(re.search(input2, text).group(1) if (input2 := pattern1 if pattern1.search(text) else pattern2 if pattern2.search(text) else None) else \"No match found.\")"
   ]
  },
  {
   "cell_type": "code",
   "execution_count": 371,
   "id": "a5da50da",
   "metadata": {},
   "outputs": [],
   "source": [
    "def extract_info(extracted_text):\n",
    "    property_information = {}\n",
    "    \n",
    "    #defining the regular expression for each column\n",
    "    property_id_pattern = r'Kiinteistötunnus:\\s+\\d{3}-\\d{3}-\\d-\\d{3}-\\w\\d'\n",
    "    property_information['Property ID']= re.search(property_id_pattern, text).group().split()[1] if re.search(property_id_pattern, text) else None\n",
    "    \n",
    "    #Address_pattern\n",
    "    Address_pattern1 =  re.compile(r'Osoite\\s+([^,]+)')    #address\n",
    "    Address_pattern2 = re.compile(r'osoitteessa\\s+([^,]+)')\n",
    "    property_information['Address'] = re.search(input2, text).group(1) if (input2 := Address_pattern1 if Address_pattern1.search(text) else Address_pattern2 if Address_pattern2.search(text) else None) else None\n",
    "\n",
    "    #Municipality and Postal_code pattern\n",
    "    code_pattern = r'(\\b\\w{5}\\b) (\\w+)'   #postal_code\n",
    "    muncipality_pattern1 = re.compile(r'Osoite\\s+([^,]+),([^,]+)') #Address\n",
    "    mincipality_pattern2 = re.compile(r'osoitteessa\\s+([^,]+),([^,]+)')\n",
    "    muncipality_code = re.search(input3, text).group() if (input3 := muncipality_pattern1 if muncipality_pattern1.search(text) else muncipality_pattern2 if muncipality_pattern2.search(text) else None) else None\n",
    "    property_information['Municipality'] = re.search(code_pattern, muncipality_code).group(2) if (input3 := muncipality_pattern1 if muncipality_pattern1.search(text) else muncipality_pattern2 if muncipality_pattern2.search(text) else None) else None\n",
    "    property_information['Postal code'] = re.search(code_pattern, muncipality_code).group(1) if (input3 := muncipality_pattern1 if muncipality_pattern1.search(text) else muncipality_pattern2 if muncipality_pattern2.search(text) else None) else None\n",
    "    \n",
    "    #plot ownership patterns\n",
    "    plot_ownership_pattern1 = r'vuokratontilla' #ownership pattern\n",
    "    plot_ownership_pattern2 = r'omalla tontilla'\n",
    "    plot_ownership_pattern3 = r'oma tontti'\n",
    "    property_information['Plot ownership'] = 'Freehold' if re.search(plot_ownership_pattern2, text) or re.search(plot_ownership_pattern3, text) else 'Leasehold'\n",
    "\n",
    "    #property_type\n",
    "    #type_of_property_pattern = r'Omakotitalo' #type of property pattern\n",
    "    type_of_property_pattern1 = r'Kiinteistön'\n",
    "    type_of_property_pattern2 = r'asuinhuoneisto'\n",
    "    type_of_property_pattern3 = r'rivitalo'\n",
    "    type_of_property_pattern4 = r'erillistalo'\n",
    "    type_of_property_pattern5 = r'paritalo'\n",
    "\n",
    "    if re.search(type_of_property_pattern1, text):\n",
    "        property_information['Type of property'] = 'Single family house'\n",
    "    elif re.search(type_of_property_pattern2, text):\n",
    "        property_information['Type of property'] = 'Apartment'\n",
    "    elif re.search(type_of_property_pattern3, text):\n",
    "        property_information['Type of property'] = 'Rowhouse'\n",
    "    elif re.search(type_of_property_pattern4, text):\n",
    "        property_information['Type of property'] = 'detached house'\n",
    "    elif re.search(type_of_property_pattern5, text):\n",
    "        property_information['Type of property'] = 'dublex'\n",
    "    else:\n",
    "        property_information['Type of property'] = None\n",
    "    \n",
    "    value_year_pattern = r'arvostettu\\s+arvostettu(\\d{4})'  #value year & building year pattern\n",
    "    \n",
    "    #living area pattern\n",
    "    living_area_pattern1 = r'Huoneistoala (\\d+)m2'\n",
    "    living_area_pattern2 = r'pinta-ala on (\\d+)m2'\n",
    "\n",
    "    if re.search(living_area_pattern1,text):\n",
    "        property_information['Living area'] = re.search(living_area_pattern1,text).group(1)\n",
    "    elif re.search(living_area_pattern2,text):\n",
    "        property_information['Living area'] = re.search(living_area_pattern2,text).group(1)\n",
    "    else:\n",
    "        property_information['Living area'] = None\n",
    "    \n",
    "    #secondary_area_pattern\n",
    "    secondary_area_pattern = r'kerrosala (\\d+)m2'\n",
    "    property_information['Secondary area'] = re.search(secondary_area_pattern,text).group(1) if re.search(secondary_area_pattern,text) else None\n",
    "    \n",
    "    #building year pattern\n",
    "    building_year_pattern1 = r'Rakennusvuosi (\\d{4})'\n",
    "    building_year_pattern2 = r'(?<=\\b)(\\d{4}) (?=valmistunut)'\n",
    "\n",
    "    if re.search(building_year_pattern1,text):\n",
    "        property_information['Building year'] = re.search(building_year_pattern1,text).group(1)\n",
    "    elif re.search(building_year_pattern2,text):\n",
    "        property_information['Building year'] = re.search(building_year_pattern2,text).group(1)\n",
    "    else:\n",
    "        property_information['Building year'] = None\n",
    "        \n",
    "    #valuation_date_pattern\n",
    "    for i in reversed(text1):\n",
    "        valuation_date_pattern = re.search(r'(\\d{1,2}\\.\\d{1,2}\\.\\d{4})', i)\n",
    "        if match:\n",
    "            property_information['Valuation date'] = valuation_date_pattern.group(1)\n",
    "    #         last_date = match.group(1)\n",
    "            day, month, year = re.split(r'[.,-]', property_information['Valuation date'])\n",
    "            property_information['Valuation date'] = f\"{day}/{month}/{year}\"\n",
    "            break  # Stop searching once a date is found\n",
    "        else:\n",
    "            property_information['Valuation date'] = None\n",
    "    \n",
    "    \n",
    "#     market_value_pattern = r'(\\d+ ?\\d*) €'\n",
    "#     market_value_pattern = r'(\\d+ ?\\d*) euroa\"\n",
    "    market_value_pattern1 = r'(\\d+(?: ?\\d*)*) €'\n",
    "    market_value_pattern2 = r'(\\d+(?: ?\\d*)*) euroa'\n",
    "    for i in text:\n",
    "        if re.search(market_value_pattern1,text):\n",
    "            property_information['Market value'] = re.search(market_value_pattern1,text).group(1).replace(' ', '')\n",
    "        elif re.search(market_value_pattern2,text):\n",
    "            property_information['Market value'] = re.search(market_value_pattern2,text).group(1).replace(' ', '')\n",
    "        else:\n",
    "            property_information['Market value'] = None\n",
    "        \n",
    "    #Rooms Pattern\n",
    "    rooms_pattern1 = r'(\\d+)h,'\n",
    "    rooms_pattern2 = r'yksiö'\n",
    "    rooms_pattern3 = r'kaksio'\n",
    "    rooms_pattern4 = r'kolmio'\n",
    "    rooms_pattern5 = r'Neljä'\n",
    "\n",
    "    if re.search(rooms_pattern2,text):\n",
    "        property_information['Number of rooms'] = 1\n",
    "    elif re.search(rooms_pattern3,text):\n",
    "        property_information['Number of rooms'] = 2\n",
    "    elif re.search(rooms_pattern4,text):\n",
    "        property_information['Number of rooms'] = 3\n",
    "    elif re.search(pattern4,text):\n",
    "        property_information['Number of rooms'] = 4\n",
    "    elif re.search(rooms_pattern1,text):\n",
    "        property_information['Number of rooms'] = re.search(pattern5,text).group(1)\n",
    "    else:\n",
    "        property_information['Number of rooms'] = None\n",
    "    \n",
    "    \n",
    "    #primary_heating_source_pattern\n",
    "    primary_heating_source_pattern = r'Lämmitysmuotona\\s+on\\s+([^,]+)'\n",
    "    property_information['Primary heating source'] = re.search(primary_heating_source_pattern,text).group(1) if re.search(primary_heating_source_pattern,text) else None\n",
    "    \n",
    "    #condition_pattern\n",
    "    condition_pattern1 = r'hyvässä'\n",
    "    condition_pattern2 = r'hyväkunt'\n",
    "    condition_pattern3 = r'Tyydyttävässä'\n",
    "    condition_pattern4 = r'Tyydyttäväkunt'\n",
    "    condition_pattern5=  r'Erinomainen'\n",
    "    condition_pattern6=  r'Erinomaisessa'\n",
    "    condition_pattern7=  r'Heikko'\n",
    "    condition_pattern8=  r'Huono'\n",
    "\n",
    "\n",
    "    if re.search(condition_pattern1,text) or re.search(condition_pattern2,text):\n",
    "        property_information['Condition'] = 'Good condition'\n",
    "    elif re.search(condition_pattern3,text) or re.search(condition_pattern4,text):\n",
    "        property_information['Condition'] = 'Satisfactory'\n",
    "    elif re.search(condition_pattern5,text) or re.search(condition_pattern6,text):\n",
    "        property_information['Condition'] = 'Excellent'\n",
    "    elif re.search(condition_pattern7,text) or re.search(condition_pattern8,text):\n",
    "        property_information['Condition'] = 'Poor'\n",
    "    else:\n",
    "        property_information['Condition'] = None\n",
    "    \n",
    "    #Agent Name\n",
    "    agent_name_pattern = r'Kiinteistönvälittäjä\\s+(\\w+)'\n",
    "    property_information['External appraiser name'] = re.search(agent_name_pattern,text).group(1) if re.search(agent_name_pattern, text) else None\n",
    "    \n",
    "#     #Extracting the information using the regular expression.\n",
    "# #     property_information['Property ID']= re.search(property_id_pattern, text).group().split()[1] if re.search(property_id_pattern, text) else None\n",
    "# #     property_information['Address'] = re.search(input2, text).group(1) if (input2 := pattern1 if pattern1.search(text) else pattern2 if pattern2.search(text) else None) else \"No match found.\")\n",
    "    \n",
    "# #     #for extracting Muncipality and Postal_code information we need to store the result in new variable\n",
    "# #     muncipality_code = re.search(muncipality, text).group()\n",
    "# #     property_information['Municipality'] = re.search(code_pattern, muncipality_code).group(2) if re.search(code_pattern, muncipality_code) else None\n",
    "# #     property_information['Postal code'] = re.search(code_pattern, muncipality_code).group(1) if re.search(code_pattern, muncipality_code) else None\n",
    "    \n",
    "# #     property_information['Plot ownership'] = 'Leasehold' if re.search(plot_ownership_pattern, text).group() else 'Owned'\n",
    "# #     property_information['Type of property'] = 'Single family house' if re.search(type_of_property_pattern, text).group() else 'Mulitple Family house'\n",
    "    \n",
    "# #     property_information['Value year'] = re.search(value_year_pattern,text).group(1) if re.search(value_year_pattern,text) else None\n",
    "# #     property_information['Living area'] = re.search(living_area_pattern,text).group(1) if re.search(living_area_pattern,text) else None\n",
    "# #     property_information['Secondary area'] = re.search(secondary_area_pattern,text).group(1) if re.search(secondary_area_pattern,text) else None\n",
    "# #     property_information['Building year'] = re.search(building_year_pattern,text).group(1) if re.search(building_year_pattern,text) else None\n",
    "# #     property_information['Valuation date'] = re.search(valuation_date_pattern,text).group(1) if re.search(valuation_date_pattern,text) else None\n",
    "#     property_information['Market value'] = re.search(market_value_pattern,text).group(1) if re.search(market_value_pattern,text) else None\n",
    "#     property_information['Number of rooms'] = re.search(rooms_pattern,text).group(1) if re.search(rooms_pattern,text) else None\n",
    "#     property_information['Primary heating source'] = re.search(primary_heating_source_pattern,text).group(1) if re.search(primary_heating_source_pattern,text) else None\n",
    "#     property_information['Condition'] = re.search(condition_pattern,text).group(1) if re.search(condition_pattern,text) else None\n",
    "#     property_information['External appraiser name'] = re.search(condition_pattern,text).group(1) if re.search(code_pattern, text) else None\n",
    "#     property_information['External appraiser company'] = re.search(condition_pattern,text).group(1) if re.search(code_pattern, text) else None\n",
    "# \n",
    "    return property_information\n",
    "    \n",
    "    \n",
    "\n",
    "# Market value\n",
    "# Number of rooms\n",
    "# Primary heating source\n",
    "# Condition\n",
    "# External appraiser name\n",
    "# External appraiser company\n",
    "# Example from file Finnish1Masked\n"
   ]
  },
  {
   "cell_type": "code",
   "execution_count": null,
   "id": "f5174e27",
   "metadata": {},
   "outputs": [],
   "source": []
  },
  {
   "cell_type": "code",
   "execution_count": 145,
   "id": "0b6d69e3",
   "metadata": {},
   "outputs": [
    {
     "name": "stdout",
     "output_type": "stream",
     "text": [
      "Siivikkala\n",
      "33450\n"
     ]
    }
   ],
   "source": [
    "code_pattern = r'(\\b\\w{5}\\b) (\\w+)'\n",
    "muncipality_pattern1 = re.compile(r'Osoite\\s+([^,]+),([^,]+)') #Address\n",
    "mincipality_pattern2 = re.compile(r'osoitteessa\\s+([^,]+),([^,]+)')\n",
    "muncipality_code = re.search(input3, text).group() if (input3 := muncipality_pattern1 if muncipality_pattern1.search(text) else muncipality_pattern2 if muncipality_pattern2.search(text) else None) else None\n",
    "property_information['Municipality'] = re.search(code_pattern, muncipality_code).group(2) if (input3 := muncipality_pattern1 if muncipality_pattern1.search(text) else muncipality_pattern2 if muncipality_pattern2.search(text) else None) else None\n",
    "property_information['Postal code'] = re.search(code_pattern, muncipality_code).group(1) if (input3 := muncipality_pattern1 if muncipality_pattern1.search(text) else muncipality_pattern2 if muncipality_pattern2.search(text) else None) else None\n",
    "    "
   ]
  },
  {
   "cell_type": "code",
   "execution_count": 148,
   "id": "cb2eeb48",
   "metadata": {},
   "outputs": [
    {
     "name": "stdout",
     "output_type": "stream",
     "text": [
      "Leasehold\n"
     ]
    }
   ],
   "source": [
    "plot_ownership_pattern1 = r'vuokratontilla' #ownership pattern\n",
    "plot_ownership_pattern2 = r'omalla tontilla'\n",
    "plot_ownership_pattern3 = r'oma tontti'\n",
    "input4 = 'Freehold' if re.search(plot_ownership_pattern2, text) or re.search(plot_ownership_pattern3, text) else 'Leasehold'\n",
    "print(input4)\n"
   ]
  },
  {
   "cell_type": "code",
   "execution_count": 157,
   "id": "cdae1016",
   "metadata": {},
   "outputs": [
    {
     "name": "stdout",
     "output_type": "stream",
     "text": [
      "Single family house\n"
     ]
    }
   ],
   "source": [
    "#If text \"asuinhuoneisto\" --> \"Apartment\", if \"rivitalo\" --> \"Rowhouse, if \"erillistalo\" --> detached house, if \"paritalo\" --> dublex, if \"kiinteistötunnus\" --> Single family \n",
    "type_of_property_pattern1 = r'Kiinteistön'\n",
    "type_of_property_pattern2 = r'asuinhuoneisto'\n",
    "type_of_property_pattern3 = r'rivitalo'\n",
    "type_of_property_pattern4 = r'erillistalo'\n",
    "type_of_property_pattern5 = r'paritalo'\n",
    "\n",
    "if re.search(type_of_property_pattern1, text):\n",
    "    pp = 'Single family house'\n",
    "elif re.search(type_of_property_pattern2, text):\n",
    "    pp = 'Apartment'\n",
    "elif re.search(type_of_property_pattern3, text):\n",
    "    pp = 'Rowhouse'\n",
    "elif re.search(type_of_property_pattern4, text):\n",
    "    pp = 'detached house'\n",
    "elif re.search(type_of_property_pattern5, text):\n",
    "    pp = 'dublex'\n",
    "else:\n",
    "    pp = None\n",
    "    \n",
    "print(pp)\n",
    "\n",
    "#'Single family house' if re.search(type_of_property_pattern1, text).group() else 'Mulitple Family house'"
   ]
  },
  {
   "cell_type": "code",
   "execution_count": 181,
   "id": "06f40103",
   "metadata": {},
   "outputs": [
    {
     "name": "stdout",
     "output_type": "stream",
     "text": [
      "None\n"
     ]
    }
   ],
   "source": [
    "#living_area_pattern = r'Huoneistoala (\\d+)m2|pinta-ala on (\\d+)m2'\n",
    "living_area_pattern = re.compile(r'Huoneistoala (\\d+)m2|pinta-ala on (\\d+)m2')\n",
    "#al = re.search(living_area_pattern,text).group(2) if re.search(living_area_pattern,text) else None\n",
    "re.search(living_area_pattern,text)\n",
    "print(al)"
   ]
  },
  {
   "cell_type": "code",
   "execution_count": 206,
   "id": "b2874951",
   "metadata": {},
   "outputs": [
    {
     "name": "stdout",
     "output_type": "stream",
     "text": [
      "131\n"
     ]
    }
   ],
   "source": [
    "living_area_pattern1 = r'Huoneistoala (\\d+)m2'\n",
    "living_area_pattern2 = r'pinta-ala on (\\d+)m2'\n",
    "\n",
    "if re.search(living_area_pattern1,text):\n",
    "    la = re.search(living_area_pattern1,text).group(1)\n",
    "elif re.search(living_area_pattern2,text):\n",
    "    la = re.search(living_area_pattern2,text).group(1)\n",
    "else:\n",
    "    la = None\n",
    "    \n",
    "    \n",
    "print(la)"
   ]
  },
  {
   "cell_type": "code",
   "execution_count": 193,
   "id": "c0e78352",
   "metadata": {},
   "outputs": [
    {
     "data": {
      "text/plain": [
       "'131'"
      ]
     },
     "execution_count": 193,
     "metadata": {},
     "output_type": "execute_result"
    }
   ],
   "source": [
    "re.search(living_area_pattern2,text).group(1)"
   ]
  },
  {
   "cell_type": "code",
   "execution_count": 197,
   "id": "ef8a420e",
   "metadata": {},
   "outputs": [],
   "source": [
    "re.search(living_area_pattern1,text) if re.search(living_area_pattern1,text) or re.search(living_area_pattern2,text) else None "
   ]
  },
  {
   "cell_type": "code",
   "execution_count": 226,
   "id": "7657a8b1",
   "metadata": {},
   "outputs": [
    {
     "name": "stdout",
     "output_type": "stream",
     "text": [
      "2024\n"
     ]
    }
   ],
   "source": [
    "building_year_pattern1 = r'Rakennusvuosi (\\d{4})'\n",
    "building_year_pattern2 = r'(?<=\\b)(\\d{4}) (?=valmistunut)'\n",
    "\n",
    "if re.search(building_year_pattern1,text):\n",
    "    by = re.search(building_year_pattern1,text).group(1)\n",
    "elif re.search(building_year_pattern2,text):\n",
    "    by = re.search(building_year_pattern2,text).group(1)\n",
    "else:\n",
    "    by = None\n",
    "    \n",
    "print(by)"
   ]
  },
  {
   "cell_type": "code",
   "execution_count": 220,
   "id": "b497598a",
   "metadata": {},
   "outputs": [
    {
     "ename": "AttributeError",
     "evalue": "'NoneType' object has no attribute 'group'",
     "output_type": "error",
     "traceback": [
      "\u001b[1;31m---------------------------------------------------------------------------\u001b[0m",
      "\u001b[1;31mAttributeError\u001b[0m                            Traceback (most recent call last)",
      "\u001b[1;32m<ipython-input-220-6acaefab96d0>\u001b[0m in \u001b[0;36m<module>\u001b[1;34m\u001b[0m\n\u001b[1;32m----> 1\u001b[1;33m \u001b[0mre\u001b[0m\u001b[1;33m.\u001b[0m\u001b[0msearch\u001b[0m\u001b[1;33m(\u001b[0m\u001b[0mbuilding_year_pattern2\u001b[0m\u001b[1;33m,\u001b[0m\u001b[0mtext\u001b[0m\u001b[1;33m)\u001b[0m\u001b[1;33m.\u001b[0m\u001b[0mgroup\u001b[0m\u001b[1;33m(\u001b[0m\u001b[1;36m1\u001b[0m\u001b[1;33m)\u001b[0m\u001b[1;33m\u001b[0m\u001b[1;33m\u001b[0m\u001b[0m\n\u001b[0m",
      "\u001b[1;31mAttributeError\u001b[0m: 'NoneType' object has no attribute 'group'"
     ]
    }
   ],
   "source": [
    "re.search(building_year_pattern2,text).group(1)"
   ]
  },
  {
   "cell_type": "code",
   "execution_count": 222,
   "id": "e209bdb7",
   "metadata": {},
   "outputs": [
    {
     "data": {
      "text/plain": [
       "'2024'"
      ]
     },
     "execution_count": 222,
     "metadata": {},
     "output_type": "execute_result"
    }
   ],
   "source": [
    "re.search(building_year_pattern1,text).group(1)"
   ]
  },
  {
   "cell_type": "code",
   "execution_count": 315,
   "id": "d760e6b4",
   "metadata": {},
   "outputs": [
    {
     "ename": "SyntaxError",
     "evalue": "unexpected EOF while parsing (<ipython-input-315-f0fc712e8838>, line 2)",
     "output_type": "error",
     "traceback": [
      "\u001b[1;36m  File \u001b[1;32m\"<ipython-input-315-f0fc712e8838>\"\u001b[1;36m, line \u001b[1;32m2\u001b[0m\n\u001b[1;33m    #     print(i)\u001b[0m\n\u001b[1;37m                  ^\u001b[0m\n\u001b[1;31mSyntaxError\u001b[0m\u001b[1;31m:\u001b[0m unexpected EOF while parsing\n"
     ]
    }
   ],
   "source": [
    "for i in text[::-1]:\n",
    "#     print(i)"
   ]
  },
  {
   "cell_type": "code",
   "execution_count": 259,
   "id": "c8e79fe1",
   "metadata": {},
   "outputs": [
    {
     "data": {
      "text/plain": [
       "'     Hinta -arviolausunto   -  - Omakotitalo 5h, avokeittiö,  kph, s, 2 x wc, vh, khh, käyttöullakko,  varasto, autokatos ja terassi    2024 valmistunut  -850m2 vuokratontilla, pihatyöt  keskeneräisiä   -pinta-ala on 131m2, kerrosala 150m2   -Lämmitysmuotona  on poistoilmalämpöpumppu,  vesikiertoisella lattialämmityksellä   Kiinteistön  markkinahinta on noin 383 000 € +/- 3%.  Arvio perustuu kauppa -arvomenetelmään,  toteutuneiden kauppahintojen tilastotietoihin sekä   myyntikokemukseen Pirkanmaan alueelta.   Tampereella  19.4.2024   XXX Hiltunen   Kiinteistönvälittäjä  LKV  XXX  Muutos LKV / Pirkanmaan Laatuvälitys  Oy ꢀ   Osoite  Atie 5, 33450 Siivikkala Kiinteistötunnus:  000-000-0-397-L1   ꢀ  '"
      ]
     },
     "execution_count": 259,
     "metadata": {},
     "output_type": "execute_result"
    }
   ],
   "source": [
    "text"
   ]
  },
  {
   "cell_type": "code",
   "execution_count": 268,
   "id": "822535b9",
   "metadata": {},
   "outputs": [
    {
     "name": "stdout",
     "output_type": "stream",
     "text": [
      "Last date: 19/4/2024\n",
      "Last date: 19/4/2024\n"
     ]
    }
   ],
   "source": [
    "for i in reversed(text):\n",
    "    match = re.search(r'(\\d{1,2}\\.\\d{1,2}\\.\\d{4})', i)\n",
    "    if match:\n",
    "        last_date = match.group(1)\n",
    "        day, month, year = re.split(r'[.,-]', last_date)\n",
    "        last_date = f\"{day}/{month}/{year}\"\n",
    "        print(\"Last date:\", last_date)\n",
    "        print(\"Last date:\", last_date)\n",
    "        break  # Stop searching once a date is found\n",
    "else:\n",
    "    print(\"No date found\")"
   ]
  },
  {
   "cell_type": "code",
   "execution_count": 262,
   "id": "4893f7f6",
   "metadata": {},
   "outputs": [
    {
     "ename": "AttributeError",
     "evalue": "'NoneType' object has no attribute 'group'",
     "output_type": "error",
     "traceback": [
      "\u001b[1;31m---------------------------------------------------------------------------\u001b[0m",
      "\u001b[1;31mAttributeError\u001b[0m                            Traceback (most recent call last)",
      "\u001b[1;32m<ipython-input-262-e7bf6eb16639>\u001b[0m in \u001b[0;36m<module>\u001b[1;34m\u001b[0m\n\u001b[1;32m----> 1\u001b[1;33m \u001b[0mmatch\u001b[0m \u001b[1;33m=\u001b[0m \u001b[0mre\u001b[0m\u001b[1;33m.\u001b[0m\u001b[0msearch\u001b[0m\u001b[1;33m(\u001b[0m\u001b[1;34mr'\\b(\\d{1,2}\\.\\d{1,2}\\.\\d{4})\\b'\u001b[0m\u001b[1;33m,\u001b[0m \u001b[0mtext\u001b[0m\u001b[1;33m[\u001b[0m\u001b[1;33m:\u001b[0m\u001b[1;33m:\u001b[0m\u001b[1;33m-\u001b[0m\u001b[1;36m1\u001b[0m\u001b[1;33m]\u001b[0m\u001b[1;33m)\u001b[0m\u001b[1;33m.\u001b[0m\u001b[0mgroup\u001b[0m\u001b[1;33m(\u001b[0m\u001b[1;33m)\u001b[0m\u001b[1;33m\u001b[0m\u001b[1;33m\u001b[0m\u001b[0m\n\u001b[0m\u001b[0;32m      2\u001b[0m \u001b[1;32mif\u001b[0m \u001b[0mmatch\u001b[0m\u001b[1;33m:\u001b[0m\u001b[1;33m\u001b[0m\u001b[1;33m\u001b[0m\u001b[0m\n\u001b[0;32m      3\u001b[0m     \u001b[0mlast_date\u001b[0m \u001b[1;33m=\u001b[0m \u001b[0mmatch\u001b[0m\u001b[1;33m.\u001b[0m\u001b[0mgroup\u001b[0m\u001b[1;33m(\u001b[0m\u001b[1;33m)\u001b[0m\u001b[1;33m[\u001b[0m\u001b[1;33m:\u001b[0m\u001b[1;33m:\u001b[0m\u001b[1;33m-\u001b[0m\u001b[1;36m1\u001b[0m\u001b[1;33m]\u001b[0m \u001b[1;31m# Reverse the matched date string\u001b[0m\u001b[1;33m\u001b[0m\u001b[1;33m\u001b[0m\u001b[0m\n\u001b[0;32m      4\u001b[0m     \u001b[0mprint\u001b[0m\u001b[1;33m(\u001b[0m\u001b[1;34m\"Last date:\"\u001b[0m\u001b[1;33m,\u001b[0m \u001b[0mlast_date\u001b[0m\u001b[1;33m)\u001b[0m\u001b[1;33m\u001b[0m\u001b[1;33m\u001b[0m\u001b[0m\n\u001b[0;32m      5\u001b[0m \u001b[1;32melse\u001b[0m\u001b[1;33m:\u001b[0m\u001b[1;33m\u001b[0m\u001b[1;33m\u001b[0m\u001b[0m\n",
      "\u001b[1;31mAttributeError\u001b[0m: 'NoneType' object has no attribute 'group'"
     ]
    }
   ],
   "source": []
  },
  {
   "cell_type": "code",
   "execution_count": 265,
   "id": "d5940413",
   "metadata": {},
   "outputs": [
    {
     "ename": "TypeError",
     "evalue": "expected string or bytes-like object",
     "output_type": "error",
     "traceback": [
      "\u001b[1;31m---------------------------------------------------------------------------\u001b[0m",
      "\u001b[1;31mTypeError\u001b[0m                                 Traceback (most recent call last)",
      "\u001b[1;32m<ipython-input-265-e3edcdb11fcc>\u001b[0m in \u001b[0;36m<module>\u001b[1;34m\u001b[0m\n\u001b[1;32m----> 1\u001b[1;33m \u001b[0mmatch\u001b[0m \u001b[1;33m=\u001b[0m \u001b[0mre\u001b[0m\u001b[1;33m.\u001b[0m\u001b[0msearch\u001b[0m\u001b[1;33m(\u001b[0m\u001b[1;34mr'\\b(\\d{1,2})\\.(\\d{1,2})\\.(\\d{4})\\b'\u001b[0m\u001b[1;33m,\u001b[0m \u001b[0mtext\u001b[0m\u001b[1;33m[\u001b[0m\u001b[1;33m:\u001b[0m\u001b[1;33m:\u001b[0m\u001b[1;33m-\u001b[0m\u001b[1;36m1\u001b[0m\u001b[1;33m]\u001b[0m\u001b[1;33m)\u001b[0m\u001b[1;33m\u001b[0m\u001b[1;33m\u001b[0m\u001b[0m\n\u001b[0m\u001b[0;32m      2\u001b[0m \u001b[1;33m\u001b[0m\u001b[0m\n\u001b[0;32m      3\u001b[0m \u001b[1;32mif\u001b[0m \u001b[0mmatch\u001b[0m\u001b[1;33m:\u001b[0m\u001b[1;33m\u001b[0m\u001b[1;33m\u001b[0m\u001b[0m\n\u001b[0;32m      4\u001b[0m     \u001b[0mlast_date\u001b[0m \u001b[1;33m=\u001b[0m \u001b[0mmatch\u001b[0m\u001b[1;33m.\u001b[0m\u001b[0mgroup\u001b[0m\u001b[1;33m(\u001b[0m\u001b[1;36m3\u001b[0m\u001b[1;33m)\u001b[0m \u001b[1;33m+\u001b[0m \u001b[1;34m'/'\u001b[0m \u001b[1;33m+\u001b[0m \u001b[0mmatch\u001b[0m\u001b[1;33m.\u001b[0m\u001b[0mgroup\u001b[0m\u001b[1;33m(\u001b[0m\u001b[1;36m2\u001b[0m\u001b[1;33m)\u001b[0m \u001b[1;33m+\u001b[0m \u001b[1;34m'/'\u001b[0m \u001b[1;33m+\u001b[0m \u001b[0mmatch\u001b[0m\u001b[1;33m.\u001b[0m\u001b[0mgroup\u001b[0m\u001b[1;33m(\u001b[0m\u001b[1;36m1\u001b[0m\u001b[1;33m)\u001b[0m\u001b[1;33m\u001b[0m\u001b[1;33m\u001b[0m\u001b[0m\n\u001b[0;32m      5\u001b[0m     \u001b[0mprint\u001b[0m\u001b[1;33m(\u001b[0m\u001b[1;34m\"Last date:\"\u001b[0m\u001b[1;33m,\u001b[0m \u001b[0mlast_date\u001b[0m\u001b[1;33m)\u001b[0m\u001b[1;33m\u001b[0m\u001b[1;33m\u001b[0m\u001b[0m\n",
      "\u001b[1;32m~\\anaconda3\\lib\\re.py\u001b[0m in \u001b[0;36msearch\u001b[1;34m(pattern, string, flags)\u001b[0m\n\u001b[0;32m    199\u001b[0m     \"\"\"Scan through string looking for a match to the pattern, returning\n\u001b[0;32m    200\u001b[0m     a Match object, or None if no match was found.\"\"\"\n\u001b[1;32m--> 201\u001b[1;33m     \u001b[1;32mreturn\u001b[0m \u001b[0m_compile\u001b[0m\u001b[1;33m(\u001b[0m\u001b[0mpattern\u001b[0m\u001b[1;33m,\u001b[0m \u001b[0mflags\u001b[0m\u001b[1;33m)\u001b[0m\u001b[1;33m.\u001b[0m\u001b[0msearch\u001b[0m\u001b[1;33m(\u001b[0m\u001b[0mstring\u001b[0m\u001b[1;33m)\u001b[0m\u001b[1;33m\u001b[0m\u001b[1;33m\u001b[0m\u001b[0m\n\u001b[0m\u001b[0;32m    202\u001b[0m \u001b[1;33m\u001b[0m\u001b[0m\n\u001b[0;32m    203\u001b[0m \u001b[1;32mdef\u001b[0m \u001b[0msub\u001b[0m\u001b[1;33m(\u001b[0m\u001b[0mpattern\u001b[0m\u001b[1;33m,\u001b[0m \u001b[0mrepl\u001b[0m\u001b[1;33m,\u001b[0m \u001b[0mstring\u001b[0m\u001b[1;33m,\u001b[0m \u001b[0mcount\u001b[0m\u001b[1;33m=\u001b[0m\u001b[1;36m0\u001b[0m\u001b[1;33m,\u001b[0m \u001b[0mflags\u001b[0m\u001b[1;33m=\u001b[0m\u001b[1;36m0\u001b[0m\u001b[1;33m)\u001b[0m\u001b[1;33m:\u001b[0m\u001b[1;33m\u001b[0m\u001b[1;33m\u001b[0m\u001b[0m\n",
      "\u001b[1;31mTypeError\u001b[0m: expected string or bytes-like object"
     ]
    }
   ],
   "source": [
    "match = re.search(r'\\b(\\d{1,2})\\.(\\d{1,2})\\.(\\d{4})\\b', text[::-1])\n",
    "\n",
    "if match:\n",
    "    last_date = match.group(3) + '/' + match.group(2) + '/' + match.group(1)\n",
    "    print(\"Last date:\", last_date)\n",
    "else:\n",
    "    print(\"No date found\")"
   ]
  },
  {
   "cell_type": "code",
   "execution_count": 308,
   "id": "9ef435bf",
   "metadata": {},
   "outputs": [],
   "source": [
    "# market_value_pattern = r'(\\d+ ?\\d*) €'\n",
    "market_value_pattern1 = r'(\\d+(?: ?\\d*)*) €'\n",
    "market_value_pattern2 = r'(\\d+(?: ?\\d*)*) euroa'\n"
   ]
  },
  {
   "cell_type": "code",
   "execution_count": 309,
   "id": "e7bb13d9",
   "metadata": {},
   "outputs": [
    {
     "name": "stdout",
     "output_type": "stream",
     "text": [
      "38000000000\n"
     ]
    }
   ],
   "source": [
    "if re.search(market_value_pattern1,text):\n",
    "    ls = re.search(market_value_pattern1,text).group(1).replace(' ', '')\n",
    "elif re.search(market_value_pattern2,text):\n",
    "    ls = re.search(market_value_pattern2,text).group(1).replace(' ', '')\n",
    "else:\n",
    "    ls = None\n",
    "# ls = re.search(market_value_pattern,text).group(1).replace(' ', '')\n",
    "# # day, month = re.split(r'[\\s+]', ls)\n",
    "# # lss = re.split(r'\\s+', ls.strip())\n",
    "print(ls)"
   ]
  },
  {
   "cell_type": "code",
   "execution_count": 313,
   "id": "bc25b637",
   "metadata": {},
   "outputs": [
    {
     "name": "stdout",
     "output_type": "stream",
     "text": [
      "92000000000\n"
     ]
    }
   ],
   "source": [
    "market_value_pattern1 = r'(\\d+(?: ?\\d*)*) €'\n",
    "market_value_pattern2 = r'(\\d+(?: ?\\d*)*) euroa'\n",
    "for i in text:\n",
    "    if re.search(market_value_pattern1,text):\n",
    "        ls = re.search(market_value_pattern1,text).group(1).replace(' ', '')\n",
    "    elif re.search(market_value_pattern2,text):\n",
    "        ls = re.search(market_value_pattern2,text).group(1).replace(' ', '')\n",
    "    else:\n",
    "        ls = None\n",
    "# ls = re.search(market_value_pattern,text).group(1).replace(' ', '')\n",
    "# # day, month = re.split(r'[\\s+]', ls)\n",
    "# # lss = re.split(r'\\s+', ls.strip())\n",
    "print(ls)"
   ]
  },
  {
   "cell_type": "code",
   "execution_count": 320,
   "id": "ecaedd31",
   "metadata": {},
   "outputs": [
    {
     "name": "stdout",
     "output_type": "stream",
     "text": [
      "5\n"
     ]
    }
   ],
   "source": [
    "# \"yksiö\" --> 1; if test \"kaksio\" --> 2; if \"kolmio\" --> 3; if \"Neljä\" --> 4) \n",
    "pattern1 = r'yksiö'\n",
    "pattern2 = r'kaksio'\n",
    "pattern3 = r'kolmio'\n",
    "pattern4 = r'Neljä'\n",
    "pattern5 = r'(\\d+)h,'\n",
    "# pattern1 = r'yksiö'\n",
    "\n",
    "\n",
    "if re.search(pattern1,text):\n",
    "    print('1')\n",
    "elif re.search(pattern2,text):\n",
    "    print('2')\n",
    "elif re.search(pattern3,text):\n",
    "    print('3')\n",
    "elif re.search(pattern4,text):\n",
    "    print('4')\n",
    "elif re.search(pattern5,text):\n",
    "    print(re.search(pattern5,text).group(1))\n",
    "else:\n",
    "    None"
   ]
  },
  {
   "cell_type": "code",
   "execution_count": 324,
   "id": "0b027575",
   "metadata": {},
   "outputs": [
    {
     "name": "stdout",
     "output_type": "stream",
     "text": [
      "None\n"
     ]
    }
   ],
   "source": [
    "# \"hyvässä\" or \"hyväkunt\" --> Good condition; if test \"Tyydyttävässä\" or \"Tyydyttäväkunt\" --> Satisfactory;\n",
    "# if \"Erinomainen\" or \"Erinomaisessa\" --> Excellent; if \"Heikko\" or \"Huono\" --> Poor\n",
    "\n",
    "condition_pattern1 = r'hyvässä'\n",
    "condition_pattern2 = r'hyväkunt'\n",
    "condition_pattern3 = r'Tyydyttävässä'\n",
    "condition_pattern4 = r'Tyydyttäväkunt'\n",
    "condition_pattern5=  r'Erinomainen'\n",
    "condition_pattern6=  r'Erinomaisessa'\n",
    "condition_pattern7=  r'Heikko'\n",
    "condition_pattern8=  r'Huono'\n",
    "\n",
    "\n",
    "if re.search(condition_pattern1,text) or re.search(condition_pattern2,text):\n",
    "    print('Good condition')\n",
    "elif re.search(condition_pattern3,text) or re.search(condition_pattern4,text):\n",
    "    print('Satisfactory')\n",
    "elif re.search(condition_pattern5,text) or re.search(condition_pattern6,text):\n",
    "    print('Excellent')\n",
    "elif re.search(condition_pattern7,text) or re.search(condition_pattern8,text):\n",
    "    print('Poor')\n",
    "else:\n",
    "    print(None)"
   ]
  },
  {
   "cell_type": "code",
   "execution_count": 338,
   "id": "f28dc8c0",
   "metadata": {},
   "outputs": [],
   "source": [
    "    agent_name_pattern = r'Kiinteistönvälittäjä\\s+(\\w+)'"
   ]
  },
  {
   "cell_type": "code",
   "execution_count": 340,
   "id": "b696239a",
   "metadata": {},
   "outputs": [
    {
     "data": {
      "text/plain": [
       "'LKV'"
      ]
     },
     "execution_count": 340,
     "metadata": {},
     "output_type": "execute_result"
    }
   ],
   "source": [
    "re.search(agent_name_pattern,text).group(1)"
   ]
  },
  {
   "cell_type": "code",
   "execution_count": 365,
   "id": "cfa5b994",
   "metadata": {},
   "outputs": [
    {
     "name": "stderr",
     "output_type": "stream",
     "text": [
      "ERROR: Could not find a version that satisfies the requirement ImageMagick\n",
      "ERROR: No matching distribution found for ImageMagick\n"
     ]
    }
   ],
   "source": [
    "!pip install ImageMagick"
   ]
  },
  {
   "cell_type": "code",
   "execution_count": 358,
   "id": "e27c6f4f",
   "metadata": {},
   "outputs": [
    {
     "ename": "AttributeError",
     "evalue": "'PageObject' object has no attribute 'save'",
     "output_type": "error",
     "traceback": [
      "\u001b[1;31m---------------------------------------------------------------------------\u001b[0m",
      "\u001b[1;31mAttributeError\u001b[0m                            Traceback (most recent call last)",
      "\u001b[1;32m<ipython-input-358-95467d9d2cea>\u001b[0m in \u001b[0;36m<module>\u001b[1;34m\u001b[0m\n\u001b[0;32m      5\u001b[0m \u001b[0mimage\u001b[0m \u001b[1;33m=\u001b[0m \u001b[0mpage\u001b[0m\u001b[1;33m.\u001b[0m\u001b[0mget_object\u001b[0m\u001b[1;33m(\u001b[0m\u001b[1;33m)\u001b[0m\u001b[1;33m\u001b[0m\u001b[1;33m\u001b[0m\u001b[0m\n\u001b[0;32m      6\u001b[0m \u001b[1;33m\u001b[0m\u001b[0m\n\u001b[1;32m----> 7\u001b[1;33m \u001b[0mimage\u001b[0m\u001b[1;33m.\u001b[0m\u001b[0msave\u001b[0m\u001b[1;33m(\u001b[0m\u001b[1;34m'my_image.png'\u001b[0m\u001b[1;33m)\u001b[0m\u001b[1;33m\u001b[0m\u001b[1;33m\u001b[0m\u001b[0m\n\u001b[0m\u001b[0;32m      8\u001b[0m \u001b[0mn1\u001b[0m \u001b[1;33m=\u001b[0m \u001b[0mpytesseract\u001b[0m\u001b[1;33m.\u001b[0m\u001b[0mimage_to_string\u001b[0m\u001b[1;33m(\u001b[0m\u001b[1;34m'my_image.png'\u001b[0m\u001b[1;33m)\u001b[0m\u001b[1;33m\u001b[0m\u001b[1;33m\u001b[0m\u001b[0m\n\u001b[0;32m      9\u001b[0m \u001b[0mprint\u001b[0m\u001b[1;33m(\u001b[0m\u001b[0mn1\u001b[0m\u001b[1;33m)\u001b[0m\u001b[1;33m\u001b[0m\u001b[1;33m\u001b[0m\u001b[0m\n",
      "\u001b[1;31mAttributeError\u001b[0m: 'PageObject' object has no attribute 'save'"
     ]
    }
   ],
   "source": [
    "# pdf_file_path = 'Finnish2Masked.pdf'\n",
    "pdf_file = open('Finnish2Masked.pdf', 'rb')\n",
    "pdf_reader = pr.PdfReader(pdf_file)\n",
    "page = pdf_reader.pages[0]\n",
    "image = page.get_object()\n",
    "\n",
    "image.save('my_image.png')\n",
    "n1 = pytesseract.image_to_string('my_image.png')\n",
    "print(n1)\n",
    "# Example usage:\n",
    "# logo_text = extract_text_from_logo(pdf_file_path)\n",
    "# print(\"Text extracted from the logo:\", logo_text)"
   ]
  },
  {
   "cell_type": "code",
   "execution_count": 361,
   "id": "242907ae",
   "metadata": {},
   "outputs": [
    {
     "ename": "PDFInfoNotInstalledError",
     "evalue": "Unable to get page count. Is poppler installed and in PATH?",
     "output_type": "error",
     "traceback": [
      "\u001b[1;31m---------------------------------------------------------------------------\u001b[0m",
      "\u001b[1;31mFileNotFoundError\u001b[0m                         Traceback (most recent call last)",
      "\u001b[1;32m~\\anaconda3\\lib\\site-packages\\pdf2image\\pdf2image.py\u001b[0m in \u001b[0;36mpdfinfo_from_path\u001b[1;34m(pdf_path, userpw, ownerpw, poppler_path, rawdates, timeout, first_page, last_page)\u001b[0m\n\u001b[0;32m    580\u001b[0m             \u001b[0menv\u001b[0m\u001b[1;33m[\u001b[0m\u001b[1;34m\"LD_LIBRARY_PATH\"\u001b[0m\u001b[1;33m]\u001b[0m \u001b[1;33m=\u001b[0m \u001b[0mpoppler_path\u001b[0m \u001b[1;33m+\u001b[0m \u001b[1;34m\":\"\u001b[0m \u001b[1;33m+\u001b[0m \u001b[0menv\u001b[0m\u001b[1;33m.\u001b[0m\u001b[0mget\u001b[0m\u001b[1;33m(\u001b[0m\u001b[1;34m\"LD_LIBRARY_PATH\"\u001b[0m\u001b[1;33m,\u001b[0m \u001b[1;34m\"\"\u001b[0m\u001b[1;33m)\u001b[0m\u001b[1;33m\u001b[0m\u001b[1;33m\u001b[0m\u001b[0m\n\u001b[1;32m--> 581\u001b[1;33m         \u001b[0mproc\u001b[0m \u001b[1;33m=\u001b[0m \u001b[0mPopen\u001b[0m\u001b[1;33m(\u001b[0m\u001b[0mcommand\u001b[0m\u001b[1;33m,\u001b[0m \u001b[0menv\u001b[0m\u001b[1;33m=\u001b[0m\u001b[0menv\u001b[0m\u001b[1;33m,\u001b[0m \u001b[0mstdout\u001b[0m\u001b[1;33m=\u001b[0m\u001b[0mPIPE\u001b[0m\u001b[1;33m,\u001b[0m \u001b[0mstderr\u001b[0m\u001b[1;33m=\u001b[0m\u001b[0mPIPE\u001b[0m\u001b[1;33m)\u001b[0m\u001b[1;33m\u001b[0m\u001b[1;33m\u001b[0m\u001b[0m\n\u001b[0m\u001b[0;32m    582\u001b[0m \u001b[1;33m\u001b[0m\u001b[0m\n",
      "\u001b[1;32m~\\anaconda3\\lib\\subprocess.py\u001b[0m in \u001b[0;36m__init__\u001b[1;34m(self, args, bufsize, executable, stdin, stdout, stderr, preexec_fn, close_fds, shell, cwd, env, universal_newlines, startupinfo, creationflags, restore_signals, start_new_session, pass_fds, encoding, errors, text)\u001b[0m\n\u001b[0;32m    857\u001b[0m \u001b[1;33m\u001b[0m\u001b[0m\n\u001b[1;32m--> 858\u001b[1;33m             self._execute_child(args, executable, preexec_fn, close_fds,\n\u001b[0m\u001b[0;32m    859\u001b[0m                                 \u001b[0mpass_fds\u001b[0m\u001b[1;33m,\u001b[0m \u001b[0mcwd\u001b[0m\u001b[1;33m,\u001b[0m \u001b[0menv\u001b[0m\u001b[1;33m,\u001b[0m\u001b[1;33m\u001b[0m\u001b[1;33m\u001b[0m\u001b[0m\n",
      "\u001b[1;32m~\\anaconda3\\lib\\subprocess.py\u001b[0m in \u001b[0;36m_execute_child\u001b[1;34m(self, args, executable, preexec_fn, close_fds, pass_fds, cwd, env, startupinfo, creationflags, shell, p2cread, p2cwrite, c2pread, c2pwrite, errread, errwrite, unused_restore_signals, unused_start_new_session)\u001b[0m\n\u001b[0;32m   1310\u001b[0m             \u001b[1;32mtry\u001b[0m\u001b[1;33m:\u001b[0m\u001b[1;33m\u001b[0m\u001b[1;33m\u001b[0m\u001b[0m\n\u001b[1;32m-> 1311\u001b[1;33m                 hp, ht, pid, tid = _winapi.CreateProcess(executable, args,\n\u001b[0m\u001b[0;32m   1312\u001b[0m                                          \u001b[1;31m# no special security\u001b[0m\u001b[1;33m\u001b[0m\u001b[1;33m\u001b[0m\u001b[1;33m\u001b[0m\u001b[0m\n",
      "\u001b[1;31mFileNotFoundError\u001b[0m: [WinError 2] The system cannot find the file specified",
      "\nDuring handling of the above exception, another exception occurred:\n",
      "\u001b[1;31mPDFInfoNotInstalledError\u001b[0m                  Traceback (most recent call last)",
      "\u001b[1;32m<ipython-input-361-b4d7095a8643>\u001b[0m in \u001b[0;36m<module>\u001b[1;34m\u001b[0m\n\u001b[0;32m      6\u001b[0m \u001b[1;33m\u001b[0m\u001b[0m\n\u001b[0;32m      7\u001b[0m \u001b[1;31m# Convert PDF page to an image\u001b[0m\u001b[1;33m\u001b[0m\u001b[1;33m\u001b[0m\u001b[1;33m\u001b[0m\u001b[0m\n\u001b[1;32m----> 8\u001b[1;33m \u001b[0mpages\u001b[0m \u001b[1;33m=\u001b[0m \u001b[0mconvert_from_path\u001b[0m\u001b[1;33m(\u001b[0m\u001b[0mpdf_file_path\u001b[0m\u001b[1;33m,\u001b[0m \u001b[0mdpi\u001b[0m\u001b[1;33m=\u001b[0m\u001b[1;36m300\u001b[0m\u001b[1;33m)\u001b[0m  \u001b[1;31m# Adjust DPI as needed\u001b[0m\u001b[1;33m\u001b[0m\u001b[1;33m\u001b[0m\u001b[0m\n\u001b[0m\u001b[0;32m      9\u001b[0m \u001b[0mimage_path\u001b[0m \u001b[1;33m=\u001b[0m \u001b[1;34m'page_1.png'\u001b[0m\u001b[1;33m\u001b[0m\u001b[1;33m\u001b[0m\u001b[0m\n\u001b[0;32m     10\u001b[0m \u001b[0mpages\u001b[0m\u001b[1;33m[\u001b[0m\u001b[1;36m0\u001b[0m\u001b[1;33m]\u001b[0m\u001b[1;33m.\u001b[0m\u001b[0msave\u001b[0m\u001b[1;33m(\u001b[0m\u001b[0mimage_path\u001b[0m\u001b[1;33m,\u001b[0m \u001b[1;34m'PNG'\u001b[0m\u001b[1;33m)\u001b[0m  \u001b[1;31m# Save the first page as an image\u001b[0m\u001b[1;33m\u001b[0m\u001b[1;33m\u001b[0m\u001b[0m\n",
      "\u001b[1;32m~\\anaconda3\\lib\\site-packages\\pdf2image\\pdf2image.py\u001b[0m in \u001b[0;36mconvert_from_path\u001b[1;34m(pdf_path, dpi, output_folder, first_page, last_page, fmt, jpegopt, thread_count, userpw, ownerpw, use_cropbox, strict, transparent, single_file, output_file, poppler_path, grayscale, size, paths_only, use_pdftocairo, timeout, hide_annotations)\u001b[0m\n\u001b[0;32m    125\u001b[0m         \u001b[0mpoppler_path\u001b[0m \u001b[1;33m=\u001b[0m \u001b[0mpoppler_path\u001b[0m\u001b[1;33m.\u001b[0m\u001b[0mas_posix\u001b[0m\u001b[1;33m(\u001b[0m\u001b[1;33m)\u001b[0m\u001b[1;33m\u001b[0m\u001b[1;33m\u001b[0m\u001b[0m\n\u001b[0;32m    126\u001b[0m \u001b[1;33m\u001b[0m\u001b[0m\n\u001b[1;32m--> 127\u001b[1;33m     page_count = pdfinfo_from_path(\n\u001b[0m\u001b[0;32m    128\u001b[0m         \u001b[0mpdf_path\u001b[0m\u001b[1;33m,\u001b[0m \u001b[0muserpw\u001b[0m\u001b[1;33m,\u001b[0m \u001b[0mownerpw\u001b[0m\u001b[1;33m,\u001b[0m \u001b[0mpoppler_path\u001b[0m\u001b[1;33m=\u001b[0m\u001b[0mpoppler_path\u001b[0m\u001b[1;33m\u001b[0m\u001b[1;33m\u001b[0m\u001b[0m\n\u001b[0;32m    129\u001b[0m     )[\"Pages\"]\n",
      "\u001b[1;32m~\\anaconda3\\lib\\site-packages\\pdf2image\\pdf2image.py\u001b[0m in \u001b[0;36mpdfinfo_from_path\u001b[1;34m(pdf_path, userpw, ownerpw, poppler_path, rawdates, timeout, first_page, last_page)\u001b[0m\n\u001b[0;32m    605\u001b[0m \u001b[1;33m\u001b[0m\u001b[0m\n\u001b[0;32m    606\u001b[0m     \u001b[1;32mexcept\u001b[0m \u001b[0mOSError\u001b[0m\u001b[1;33m:\u001b[0m\u001b[1;33m\u001b[0m\u001b[1;33m\u001b[0m\u001b[0m\n\u001b[1;32m--> 607\u001b[1;33m         raise PDFInfoNotInstalledError(\n\u001b[0m\u001b[0;32m    608\u001b[0m             \u001b[1;34m\"Unable to get page count. Is poppler installed and in PATH?\"\u001b[0m\u001b[1;33m\u001b[0m\u001b[1;33m\u001b[0m\u001b[0m\n\u001b[0;32m    609\u001b[0m         )\n",
      "\u001b[1;31mPDFInfoNotInstalledError\u001b[0m: Unable to get page count. Is poppler installed and in PATH?"
     ]
    }
   ],
   "source": [
    "from pdf2image import convert_from_path\n",
    "import pytesseract\n",
    "\n",
    "# Path to the PDF file\n",
    "pdf_file_path = 'Finnish2Masked.pdf'\n",
    "\n",
    "# Convert PDF page to an image\n",
    "pages = convert_from_path(pdf_file_path, dpi=300)  # Adjust DPI as needed\n",
    "image_path = 'page_1.png'\n",
    "pages[0].save(image_path, 'PNG')  # Save the first page as an image\n",
    "\n",
    "# Perform OCR on the image\n",
    "ocr_text = pytesseract.image_to_string(image_path)\n",
    "print(\"Text extracted from the image:\", ocr_text)\n"
   ]
  },
  {
   "cell_type": "code",
   "execution_count": 364,
   "id": "4d3bea8e",
   "metadata": {},
   "outputs": [
    {
     "ename": "ImportError",
     "evalue": "MagickWand shared library not found.\nYou probably had not installed ImageMagick library.\nTry to install:\n  https://docs.wand-py.org/en/latest/guide/install.html#install-imagemagick-on-windows",
     "output_type": "error",
     "traceback": [
      "\u001b[1;31m---------------------------------------------------------------------------\u001b[0m",
      "\u001b[1;31mOSError\u001b[0m                                   Traceback (most recent call last)",
      "\u001b[1;32m~\\anaconda3\\lib\\site-packages\\wand\\api.py\u001b[0m in \u001b[0;36m<module>\u001b[1;34m\u001b[0m\n\u001b[0;32m    158\u001b[0m \u001b[1;32mtry\u001b[0m\u001b[1;33m:\u001b[0m\u001b[1;33m\u001b[0m\u001b[1;33m\u001b[0m\u001b[0m\n\u001b[1;32m--> 159\u001b[1;33m     \u001b[0mlibraries\u001b[0m \u001b[1;33m=\u001b[0m \u001b[0mload_library\u001b[0m\u001b[1;33m(\u001b[0m\u001b[1;33m)\u001b[0m\u001b[1;33m\u001b[0m\u001b[1;33m\u001b[0m\u001b[0m\n\u001b[0m\u001b[0;32m    160\u001b[0m \u001b[1;32mexcept\u001b[0m \u001b[1;33m(\u001b[0m\u001b[0mOSError\u001b[0m\u001b[1;33m,\u001b[0m \u001b[0mIOError\u001b[0m\u001b[1;33m)\u001b[0m\u001b[1;33m:\u001b[0m\u001b[1;33m\u001b[0m\u001b[1;33m\u001b[0m\u001b[0m\n",
      "\u001b[1;32m~\\anaconda3\\lib\\site-packages\\wand\\api.py\u001b[0m in \u001b[0;36mload_library\u001b[1;34m()\u001b[0m\n\u001b[0;32m    147\u001b[0m         \u001b[1;32mreturn\u001b[0m \u001b[0mlibwand\u001b[0m\u001b[1;33m,\u001b[0m \u001b[0mlibmagick\u001b[0m\u001b[1;33m\u001b[0m\u001b[1;33m\u001b[0m\u001b[0m\n\u001b[1;32m--> 148\u001b[1;33m     \u001b[1;32mraise\u001b[0m \u001b[0mIOError\u001b[0m\u001b[1;33m(\u001b[0m\u001b[1;34m'cannot find library; tried paths: '\u001b[0m \u001b[1;33m+\u001b[0m \u001b[0mrepr\u001b[0m\u001b[1;33m(\u001b[0m\u001b[0mtried_paths\u001b[0m\u001b[1;33m)\u001b[0m\u001b[1;33m)\u001b[0m\u001b[1;33m\u001b[0m\u001b[1;33m\u001b[0m\u001b[0m\n\u001b[0m\u001b[0;32m    149\u001b[0m \u001b[1;33m\u001b[0m\u001b[0m\n",
      "\u001b[1;31mOSError\u001b[0m: cannot find library; tried paths: []",
      "\nDuring handling of the above exception, another exception occurred:\n",
      "\u001b[1;31mImportError\u001b[0m                               Traceback (most recent call last)",
      "\u001b[1;32m<ipython-input-364-3c96f08f89de>\u001b[0m in \u001b[0;36m<module>\u001b[1;34m\u001b[0m\n\u001b[1;32m----> 1\u001b[1;33m \u001b[1;32mfrom\u001b[0m \u001b[0mwand\u001b[0m\u001b[1;33m.\u001b[0m\u001b[0mimage\u001b[0m \u001b[1;32mimport\u001b[0m \u001b[0mImage\u001b[0m\u001b[1;33m\u001b[0m\u001b[1;33m\u001b[0m\u001b[0m\n\u001b[0m\u001b[0;32m      2\u001b[0m \u001b[1;32mimport\u001b[0m \u001b[0mpytesseract\u001b[0m\u001b[1;33m\u001b[0m\u001b[1;33m\u001b[0m\u001b[0m\n\u001b[0;32m      3\u001b[0m \u001b[1;33m\u001b[0m\u001b[0m\n\u001b[0;32m      4\u001b[0m \u001b[1;31m# Path to the PDF file\u001b[0m\u001b[1;33m\u001b[0m\u001b[1;33m\u001b[0m\u001b[1;33m\u001b[0m\u001b[0m\n\u001b[0;32m      5\u001b[0m \u001b[0mpdf_file_path\u001b[0m \u001b[1;33m=\u001b[0m \u001b[1;34m'Finnish2Masked.pdf'\u001b[0m\u001b[1;33m\u001b[0m\u001b[1;33m\u001b[0m\u001b[0m\n",
      "\u001b[1;32m~\\anaconda3\\lib\\site-packages\\wand\\image.py\u001b[0m in \u001b[0;36m<module>\u001b[1;34m\u001b[0m\n\u001b[0;32m     16\u001b[0m \u001b[1;32mimport\u001b[0m \u001b[0mweakref\u001b[0m\u001b[1;33m\u001b[0m\u001b[1;33m\u001b[0m\u001b[0m\n\u001b[0;32m     17\u001b[0m \u001b[1;33m\u001b[0m\u001b[0m\n\u001b[1;32m---> 18\u001b[1;33m \u001b[1;32mfrom\u001b[0m \u001b[1;33m.\u001b[0m \u001b[1;32mimport\u001b[0m \u001b[0massertions\u001b[0m\u001b[1;33m\u001b[0m\u001b[1;33m\u001b[0m\u001b[0m\n\u001b[0m\u001b[0;32m     19\u001b[0m \u001b[1;32mfrom\u001b[0m \u001b[1;33m.\u001b[0m\u001b[0mapi\u001b[0m \u001b[1;32mimport\u001b[0m \u001b[0mlibc\u001b[0m\u001b[1;33m,\u001b[0m \u001b[0mlibmagick\u001b[0m\u001b[1;33m,\u001b[0m \u001b[0mlibrary\u001b[0m\u001b[1;33m\u001b[0m\u001b[1;33m\u001b[0m\u001b[0m\n\u001b[0;32m     20\u001b[0m from .cdefs.structures import (CCObjectInfo, CCObjectInfo70A, CCObjectInfo710,\n",
      "\u001b[1;32m~\\anaconda3\\lib\\site-packages\\wand\\assertions.py\u001b[0m in \u001b[0;36m<module>\u001b[1;34m\u001b[0m\n\u001b[0;32m    154\u001b[0m \u001b[1;33m\u001b[0m\u001b[0m\n\u001b[0;32m    155\u001b[0m \u001b[1;31m# Lazy load recursive import\u001b[0m\u001b[1;33m\u001b[0m\u001b[1;33m\u001b[0m\u001b[1;33m\u001b[0m\u001b[0m\n\u001b[1;32m--> 156\u001b[1;33m \u001b[1;32mfrom\u001b[0m \u001b[1;33m.\u001b[0m\u001b[0mcolor\u001b[0m \u001b[1;32mimport\u001b[0m \u001b[0mColor\u001b[0m  \u001b[1;31m# noqa: E402\u001b[0m\u001b[1;33m\u001b[0m\u001b[1;33m\u001b[0m\u001b[0m\n\u001b[0m",
      "\u001b[1;32m~\\anaconda3\\lib\\site-packages\\wand\\color.py\u001b[0m in \u001b[0;36m<module>\u001b[1;34m\u001b[0m\n\u001b[0;32m      8\u001b[0m \u001b[1;32mimport\u001b[0m \u001b[0mnumbers\u001b[0m\u001b[1;33m\u001b[0m\u001b[1;33m\u001b[0m\u001b[0m\n\u001b[0;32m      9\u001b[0m \u001b[1;33m\u001b[0m\u001b[0m\n\u001b[1;32m---> 10\u001b[1;33m \u001b[1;32mfrom\u001b[0m \u001b[1;33m.\u001b[0m\u001b[0mapi\u001b[0m \u001b[1;32mimport\u001b[0m \u001b[0mlibrary\u001b[0m\u001b[1;33m\u001b[0m\u001b[1;33m\u001b[0m\u001b[0m\n\u001b[0m\u001b[0;32m     11\u001b[0m \u001b[1;32mfrom\u001b[0m \u001b[1;33m.\u001b[0m\u001b[0mcdefs\u001b[0m\u001b[1;33m.\u001b[0m\u001b[0mstructures\u001b[0m \u001b[1;32mimport\u001b[0m \u001b[0mMagickPixelPacket\u001b[0m\u001b[1;33m,\u001b[0m \u001b[0mPixelInfo\u001b[0m\u001b[1;33m\u001b[0m\u001b[1;33m\u001b[0m\u001b[0m\n\u001b[0;32m     12\u001b[0m \u001b[1;32mfrom\u001b[0m \u001b[1;33m.\u001b[0m\u001b[0mcompat\u001b[0m \u001b[1;32mimport\u001b[0m \u001b[0mbinary\u001b[0m\u001b[1;33m,\u001b[0m \u001b[0mtext\u001b[0m\u001b[1;33m\u001b[0m\u001b[1;33m\u001b[0m\u001b[0m\n",
      "\u001b[1;32m~\\anaconda3\\lib\\site-packages\\wand\\api.py\u001b[0m in \u001b[0;36m<module>\u001b[1;34m\u001b[0m\n\u001b[0;32m    181\u001b[0m         \u001b[1;32melif\u001b[0m \u001b[0mdistname\u001b[0m \u001b[1;32min\u001b[0m \u001b[1;33m(\u001b[0m\u001b[1;34m'fedora'\u001b[0m\u001b[1;33m,\u001b[0m \u001b[1;34m'centos'\u001b[0m\u001b[1;33m,\u001b[0m \u001b[1;34m'redhat'\u001b[0m\u001b[1;33m)\u001b[0m\u001b[1;33m:\u001b[0m\u001b[1;33m\u001b[0m\u001b[1;33m\u001b[0m\u001b[0m\n\u001b[0;32m    182\u001b[0m             \u001b[0mmsg\u001b[0m \u001b[1;33m=\u001b[0m \u001b[1;34m'yum install ImageMagick-devel'\u001b[0m\u001b[1;33m\u001b[0m\u001b[1;33m\u001b[0m\u001b[0m\n\u001b[1;32m--> 183\u001b[1;33m     raise ImportError('MagickWand shared library not found.\\n'\n\u001b[0m\u001b[0;32m    184\u001b[0m                       \u001b[1;34m'You probably had not installed ImageMagick library.\\n'\u001b[0m\u001b[1;33m\u001b[0m\u001b[1;33m\u001b[0m\u001b[0m\n\u001b[0;32m    185\u001b[0m                       'Try to install:\\n  ' + msg)\n",
      "\u001b[1;31mImportError\u001b[0m: MagickWand shared library not found.\nYou probably had not installed ImageMagick library.\nTry to install:\n  https://docs.wand-py.org/en/latest/guide/install.html#install-imagemagick-on-windows"
     ]
    }
   ],
   "source": [
    "from wand.image import Image\n",
    "import pytesseract\n",
    "\n",
    "# Path to the PDF file\n",
    "pdf_file_path = 'Finnish2Masked.pdf'\n",
    "\n",
    "# Convert PDF page to an image\n",
    "with Image(filename=pdf_file_path, resolution=300) as img:\n",
    "    img.compression_quality = 99  # Adjust compression quality as needed\n",
    "    img.save(filename='page_1.png')\n",
    "\n",
    "# Perform OCR on the image\n",
    "ocr_text = pytesseract.image_to_string('page_1.png')\n",
    "print(\"Text extracted from the image:\", ocr_text)\n"
   ]
  },
  {
   "cell_type": "code",
   "execution_count": 369,
   "id": "6c7cfc27",
   "metadata": {},
   "outputs": [
    {
     "ename": "RuntimeError",
     "evalue": "Directory 'static/' does not exist",
     "output_type": "error",
     "traceback": [
      "\u001b[1;31m---------------------------------------------------------------------------\u001b[0m",
      "\u001b[1;31mRuntimeError\u001b[0m                              Traceback (most recent call last)",
      "\u001b[1;32m<ipython-input-369-c6039b379beb>\u001b[0m in \u001b[0;36m<module>\u001b[1;34m\u001b[0m\n\u001b[1;32m----> 1\u001b[1;33m \u001b[1;32mimport\u001b[0m \u001b[0mfitz\u001b[0m  \u001b[1;31m# PyMuPDF\u001b[0m\u001b[1;33m\u001b[0m\u001b[1;33m\u001b[0m\u001b[0m\n\u001b[0m\u001b[0;32m      2\u001b[0m \u001b[1;32mimport\u001b[0m \u001b[0mpytesseract\u001b[0m\u001b[1;33m\u001b[0m\u001b[1;33m\u001b[0m\u001b[0m\n\u001b[0;32m      3\u001b[0m \u001b[1;32mfrom\u001b[0m \u001b[0mPIL\u001b[0m \u001b[1;32mimport\u001b[0m \u001b[0mImage\u001b[0m\u001b[1;33m\u001b[0m\u001b[1;33m\u001b[0m\u001b[0m\n\u001b[0;32m      4\u001b[0m \u001b[1;33m\u001b[0m\u001b[0m\n\u001b[0;32m      5\u001b[0m \u001b[1;31m# Path to the PDF file\u001b[0m\u001b[1;33m\u001b[0m\u001b[1;33m\u001b[0m\u001b[1;33m\u001b[0m\u001b[0m\n",
      "\u001b[1;32m~\\anaconda3\\lib\\site-packages\\fitz\\__init__.py\u001b[0m in \u001b[0;36m<module>\u001b[1;34m\u001b[0m\n\u001b[1;32m----> 1\u001b[1;33m \u001b[1;32mfrom\u001b[0m \u001b[0mfrontend\u001b[0m \u001b[1;32mimport\u001b[0m \u001b[1;33m*\u001b[0m\u001b[1;33m\u001b[0m\u001b[1;33m\u001b[0m\u001b[0m\n\u001b[0m\u001b[0;32m      2\u001b[0m \u001b[1;32mimport\u001b[0m \u001b[0mtools\u001b[0m\u001b[1;33m\u001b[0m\u001b[1;33m\u001b[0m\u001b[0m\n\u001b[0;32m      3\u001b[0m \u001b[1;32mimport\u001b[0m \u001b[0mos\u001b[0m\u001b[1;33m.\u001b[0m\u001b[0mpath\u001b[0m \u001b[1;32mas\u001b[0m \u001b[0mop\u001b[0m\u001b[1;33m\u001b[0m\u001b[1;33m\u001b[0m\u001b[0m\n\u001b[0;32m      4\u001b[0m \u001b[1;33m\u001b[0m\u001b[0m\n\u001b[0;32m      5\u001b[0m \u001b[0m__version__\u001b[0m \u001b[1;33m=\u001b[0m \u001b[1;34m'0.0.1dev2'\u001b[0m\u001b[1;33m\u001b[0m\u001b[1;33m\u001b[0m\u001b[0m\n",
      "\u001b[1;32m~\\anaconda3\\lib\\site-packages\\frontend\\__init__.py\u001b[0m in \u001b[0;36m<module>\u001b[1;34m\u001b[0m\n\u001b[1;32m----> 1\u001b[1;33m \u001b[1;32mfrom\u001b[0m \u001b[1;33m.\u001b[0m\u001b[0mevents\u001b[0m \u001b[1;32mimport\u001b[0m \u001b[1;33m*\u001b[0m\u001b[1;33m\u001b[0m\u001b[1;33m\u001b[0m\u001b[0m\n\u001b[0m\u001b[0;32m      2\u001b[0m \u001b[1;32mfrom\u001b[0m \u001b[1;33m.\u001b[0m \u001b[1;32mimport\u001b[0m \u001b[0mconfig\u001b[0m\u001b[1;33m\u001b[0m\u001b[1;33m\u001b[0m\u001b[0m\n\u001b[0;32m      3\u001b[0m \u001b[1;32mfrom\u001b[0m \u001b[1;33m.\u001b[0m\u001b[0mcomponents\u001b[0m \u001b[1;32mimport\u001b[0m \u001b[1;33m*\u001b[0m\u001b[1;33m\u001b[0m\u001b[1;33m\u001b[0m\u001b[0m\n\u001b[0;32m      4\u001b[0m \u001b[1;32mfrom\u001b[0m \u001b[1;33m.\u001b[0m\u001b[0mdispatcher\u001b[0m \u001b[1;32mimport\u001b[0m \u001b[1;33m*\u001b[0m\u001b[1;33m\u001b[0m\u001b[1;33m\u001b[0m\u001b[0m\n\u001b[0;32m      5\u001b[0m \u001b[1;32mfrom\u001b[0m \u001b[1;33m.\u001b[0m\u001b[0mdom\u001b[0m \u001b[1;32mimport\u001b[0m \u001b[1;33m*\u001b[0m\u001b[1;33m\u001b[0m\u001b[1;33m\u001b[0m\u001b[0m\n",
      "\u001b[1;32m~\\anaconda3\\lib\\site-packages\\frontend\\events\\__init__.py\u001b[0m in \u001b[0;36m<module>\u001b[1;34m\u001b[0m\n\u001b[1;32m----> 1\u001b[1;33m \u001b[1;32mfrom\u001b[0m \u001b[1;33m.\u001b[0m\u001b[0mclipboard\u001b[0m \u001b[1;32mimport\u001b[0m \u001b[1;33m*\u001b[0m\u001b[1;33m\u001b[0m\u001b[1;33m\u001b[0m\u001b[0m\n\u001b[0m\u001b[0;32m      2\u001b[0m \u001b[1;32mfrom\u001b[0m \u001b[1;33m.\u001b[0m\u001b[0mevent_mixins\u001b[0m \u001b[1;32mimport\u001b[0m \u001b[1;33m*\u001b[0m\u001b[1;33m\u001b[0m\u001b[1;33m\u001b[0m\u001b[0m\n\u001b[0;32m      3\u001b[0m \u001b[1;32mfrom\u001b[0m \u001b[1;33m.\u001b[0m\u001b[0mhash_change\u001b[0m \u001b[1;32mimport\u001b[0m \u001b[1;33m*\u001b[0m\u001b[1;33m\u001b[0m\u001b[1;33m\u001b[0m\u001b[0m\n\u001b[0;32m      4\u001b[0m \u001b[1;32mfrom\u001b[0m \u001b[1;33m.\u001b[0m\u001b[0mui\u001b[0m \u001b[1;32mimport\u001b[0m \u001b[1;33m*\u001b[0m\u001b[1;33m\u001b[0m\u001b[1;33m\u001b[0m\u001b[0m\n",
      "\u001b[1;32m~\\anaconda3\\lib\\site-packages\\frontend\\events\\clipboard.py\u001b[0m in \u001b[0;36m<module>\u001b[1;34m\u001b[0m\n\u001b[0;32m      1\u001b[0m \u001b[1;32mfrom\u001b[0m \u001b[1;33m.\u001b[0m\u001b[0mevent_mixins\u001b[0m \u001b[1;32mimport\u001b[0m \u001b[0mClipboardDataMixin\u001b[0m\u001b[1;33m\u001b[0m\u001b[1;33m\u001b[0m\u001b[0m\n\u001b[1;32m----> 2\u001b[1;33m \u001b[1;32mfrom\u001b[0m \u001b[1;33m.\u001b[0m\u001b[1;33m.\u001b[0m\u001b[0mdom\u001b[0m \u001b[1;32mimport\u001b[0m \u001b[0mEvent\u001b[0m\u001b[1;33m\u001b[0m\u001b[1;33m\u001b[0m\u001b[0m\n\u001b[0m\u001b[0;32m      3\u001b[0m \u001b[1;33m\u001b[0m\u001b[0m\n\u001b[0;32m      4\u001b[0m \u001b[0m__all__\u001b[0m \u001b[1;33m=\u001b[0m \u001b[1;33m[\u001b[0m\u001b[1;34m'ClipboardEvent'\u001b[0m\u001b[1;33m]\u001b[0m\u001b[1;33m\u001b[0m\u001b[1;33m\u001b[0m\u001b[0m\n\u001b[0;32m      5\u001b[0m \u001b[1;33m\u001b[0m\u001b[0m\n",
      "\u001b[1;32m~\\anaconda3\\lib\\site-packages\\frontend\\dom.py\u001b[0m in \u001b[0;36m<module>\u001b[1;34m\u001b[0m\n\u001b[0;32m    437\u001b[0m \u001b[1;33m\u001b[0m\u001b[0m\n\u001b[0;32m    438\u001b[0m \u001b[1;33m\u001b[0m\u001b[0m\n\u001b[1;32m--> 439\u001b[1;33m \u001b[1;32mfrom\u001b[0m \u001b[1;33m.\u001b[0m \u001b[1;32mimport\u001b[0m \u001b[0mdispatcher\u001b[0m\u001b[1;33m\u001b[0m\u001b[1;33m\u001b[0m\u001b[0m\n\u001b[0m",
      "\u001b[1;32m~\\anaconda3\\lib\\site-packages\\frontend\\dispatcher.py\u001b[0m in \u001b[0;36m<module>\u001b[1;34m\u001b[0m\n\u001b[0;32m     13\u001b[0m \u001b[1;32mfrom\u001b[0m \u001b[0mstarlette\u001b[0m\u001b[1;33m.\u001b[0m\u001b[0mwebsockets\u001b[0m \u001b[1;32mimport\u001b[0m \u001b[0mWebSocket\u001b[0m\u001b[1;33m\u001b[0m\u001b[1;33m\u001b[0m\u001b[0m\n\u001b[0;32m     14\u001b[0m \u001b[1;33m\u001b[0m\u001b[0m\n\u001b[1;32m---> 15\u001b[1;33m \u001b[1;32mfrom\u001b[0m \u001b[1;33m.\u001b[0m \u001b[1;32mimport\u001b[0m \u001b[0mconfig\u001b[0m\u001b[1;33m,\u001b[0m \u001b[0mserver\u001b[0m\u001b[1;33m\u001b[0m\u001b[1;33m\u001b[0m\u001b[0m\n\u001b[0m\u001b[0;32m     16\u001b[0m \u001b[1;32mfrom\u001b[0m \u001b[1;33m.\u001b[0m\u001b[0masync_utils\u001b[0m \u001b[1;32mimport\u001b[0m \u001b[0mlater_await\u001b[0m\u001b[1;33m\u001b[0m\u001b[1;33m\u001b[0m\u001b[0m\n\u001b[0;32m     17\u001b[0m \u001b[1;33m\u001b[0m\u001b[0m\n",
      "\u001b[1;32m~\\anaconda3\\lib\\site-packages\\frontend\\server.py\u001b[0m in \u001b[0;36m<module>\u001b[1;34m\u001b[0m\n\u001b[0;32m     22\u001b[0m \u001b[1;33m\u001b[0m\u001b[0m\n\u001b[0;32m     23\u001b[0m \u001b[0mapp\u001b[0m\u001b[1;33m:\u001b[0m \u001b[0mAny\u001b[0m \u001b[1;33m=\u001b[0m \u001b[0mStarlette\u001b[0m\u001b[1;33m(\u001b[0m\u001b[0mdebug\u001b[0m\u001b[1;33m=\u001b[0m\u001b[0mconfig\u001b[0m\u001b[1;33m.\u001b[0m\u001b[0mDEBUG\u001b[0m\u001b[1;33m)\u001b[0m\u001b[1;33m\u001b[0m\u001b[1;33m\u001b[0m\u001b[0m\n\u001b[1;32m---> 24\u001b[1;33m \u001b[0mapp\u001b[0m\u001b[1;33m.\u001b[0m\u001b[0mmount\u001b[0m\u001b[1;33m(\u001b[0m\u001b[0mconfig\u001b[0m\u001b[1;33m.\u001b[0m\u001b[0mSTATIC_ROUTE\u001b[0m\u001b[1;33m,\u001b[0m \u001b[0mStaticFiles\u001b[0m\u001b[1;33m(\u001b[0m\u001b[0mdirectory\u001b[0m\u001b[1;33m=\u001b[0m\u001b[0mconfig\u001b[0m\u001b[1;33m.\u001b[0m\u001b[0mSTATIC_DIRECTORY\u001b[0m\u001b[1;33m)\u001b[0m\u001b[1;33m,\u001b[0m \u001b[0mname\u001b[0m\u001b[1;33m=\u001b[0m\u001b[0mconfig\u001b[0m\u001b[1;33m.\u001b[0m\u001b[0mSTATIC_NAME\u001b[0m\u001b[1;33m)\u001b[0m\u001b[1;33m\u001b[0m\u001b[1;33m\u001b[0m\u001b[0m\n\u001b[0m\u001b[0;32m     25\u001b[0m \u001b[0mapp\u001b[0m\u001b[1;33m.\u001b[0m\u001b[0madd_middleware\u001b[0m\u001b[1;33m(\u001b[0m\u001b[0mGZipMiddleware\u001b[0m\u001b[1;33m)\u001b[0m\u001b[1;33m\u001b[0m\u001b[1;33m\u001b[0m\u001b[0m\n\u001b[0;32m     26\u001b[0m app.add_middleware(\n",
      "\u001b[1;32m~\\anaconda3\\lib\\site-packages\\starlette\\staticfiles.py\u001b[0m in \u001b[0;36m__init__\u001b[1;34m(self, directory, packages, html, check_dir, follow_symlink)\u001b[0m\n\u001b[0;32m     57\u001b[0m         \u001b[0mself\u001b[0m\u001b[1;33m.\u001b[0m\u001b[0mfollow_symlink\u001b[0m \u001b[1;33m=\u001b[0m \u001b[0mfollow_symlink\u001b[0m\u001b[1;33m\u001b[0m\u001b[1;33m\u001b[0m\u001b[0m\n\u001b[0;32m     58\u001b[0m         \u001b[1;32mif\u001b[0m \u001b[0mcheck_dir\u001b[0m \u001b[1;32mand\u001b[0m \u001b[0mdirectory\u001b[0m \u001b[1;32mis\u001b[0m \u001b[1;32mnot\u001b[0m \u001b[1;32mNone\u001b[0m \u001b[1;32mand\u001b[0m \u001b[1;32mnot\u001b[0m \u001b[0mos\u001b[0m\u001b[1;33m.\u001b[0m\u001b[0mpath\u001b[0m\u001b[1;33m.\u001b[0m\u001b[0misdir\u001b[0m\u001b[1;33m(\u001b[0m\u001b[0mdirectory\u001b[0m\u001b[1;33m)\u001b[0m\u001b[1;33m:\u001b[0m\u001b[1;33m\u001b[0m\u001b[1;33m\u001b[0m\u001b[0m\n\u001b[1;32m---> 59\u001b[1;33m             \u001b[1;32mraise\u001b[0m \u001b[0mRuntimeError\u001b[0m\u001b[1;33m(\u001b[0m\u001b[1;34mf\"Directory '{directory}' does not exist\"\u001b[0m\u001b[1;33m)\u001b[0m\u001b[1;33m\u001b[0m\u001b[1;33m\u001b[0m\u001b[0m\n\u001b[0m\u001b[0;32m     60\u001b[0m \u001b[1;33m\u001b[0m\u001b[0m\n\u001b[0;32m     61\u001b[0m     def get_directories(\n",
      "\u001b[1;31mRuntimeError\u001b[0m: Directory 'static/' does not exist"
     ]
    }
   ],
   "source": [
    "import fitz  # PyMuPDF\n",
    "import pytesseract\n",
    "from PIL import Image\n",
    "\n",
    "# Path to the PDF file\n",
    "pdf_file_path = 'Finnish2Masked.pdf'\n",
    "\n",
    "# Open the PDF file\n",
    "pdf_document = fitz.open(pdf_file_path)\n",
    "\n",
    "# Iterate over each page\n",
    "for page_number in range(pdf_document.page_count):\n",
    "    page = pdf_document.load_page(page_number)\n",
    "    \n",
    "    # Convert the PDF page to an image\n",
    "    pix = page.get_pixmap()\n",
    "    image = Image.frombytes(\"RGB\", [pix.width, pix.height], pix.samples)\n",
    "    \n",
    "    # Perform OCR on the image\n",
    "    ocr_text = pytesseract.image_to_string(image)\n",
    "    print(f\"Text extracted from page {page_number + 1}:\", ocr_text)\n"
   ]
  },
  {
   "cell_type": "code",
   "execution_count": 368,
   "id": "9d3f992c",
   "metadata": {},
   "outputs": [
    {
     "name": "stdout",
     "output_type": "stream",
     "text": [
      "Collecting frontend\n",
      "  Downloading frontend-0.0.3-py3-none-any.whl (32 kB)\n",
      "Collecting aiofiles\n",
      "  Downloading aiofiles-23.2.1-py3-none-any.whl (15 kB)\n",
      "Requirement already satisfied: itsdangerous>=1.1.0 in c:\\users\\sudhanshu\\anaconda3\\lib\\site-packages (from frontend) (1.1.0)\n",
      "Collecting starlette>=0.12.0\n",
      "  Downloading starlette-0.37.2-py3-none-any.whl (71 kB)\n",
      "Collecting uvicorn>=0.7.1\n",
      "  Downloading uvicorn-0.30.1-py3-none-any.whl (62 kB)\n",
      "Collecting anyio<5,>=3.4.0\n",
      "  Downloading anyio-4.4.0-py3-none-any.whl (86 kB)\n",
      "Requirement already satisfied: typing-extensions>=3.10.0 in c:\\users\\sudhanshu\\anaconda3\\lib\\site-packages (from starlette>=0.12.0->frontend) (4.12.2)\n",
      "Requirement already satisfied: sniffio>=1.1 in c:\\users\\sudhanshu\\anaconda3\\lib\\site-packages (from anyio<5,>=3.4.0->starlette>=0.12.0->frontend) (1.2.0)\n",
      "Collecting exceptiongroup>=1.0.2\n",
      "  Downloading exceptiongroup-1.2.1-py3-none-any.whl (16 kB)\n",
      "Requirement already satisfied: idna>=2.8 in c:\\users\\sudhanshu\\anaconda3\\lib\\site-packages (from anyio<5,>=3.4.0->starlette>=0.12.0->frontend) (2.10)\n",
      "Requirement already satisfied: click>=7.0 in c:\\users\\sudhanshu\\anaconda3\\lib\\site-packages (from uvicorn>=0.7.1->frontend) (7.1.2)\n",
      "Collecting h11>=0.8\n",
      "  Downloading h11-0.14.0-py3-none-any.whl (58 kB)\n",
      "Installing collected packages: exceptiongroup, h11, anyio, uvicorn, starlette, aiofiles, frontend\n",
      "  Attempting uninstall: anyio\n",
      "    Found existing installation: anyio 2.2.0\n",
      "    Uninstalling anyio-2.2.0:\n",
      "      Successfully uninstalled anyio-2.2.0\n",
      "Successfully installed aiofiles-23.2.1 anyio-4.4.0 exceptiongroup-1.2.1 frontend-0.0.3 h11-0.14.0 starlette-0.37.2 uvicorn-0.30.1\n",
      "Note: you may need to restart the kernel to use updated packages.\n"
     ]
    }
   ],
   "source": [
    "pip install frontend"
   ]
  },
  {
   "cell_type": "code",
   "execution_count": null,
   "id": "b6f1a838",
   "metadata": {},
   "outputs": [],
   "source": []
  }
 ],
 "metadata": {
  "kernelspec": {
   "display_name": "Python 3",
   "language": "python",
   "name": "python3"
  },
  "language_info": {
   "codemirror_mode": {
    "name": "ipython",
    "version": 3
   },
   "file_extension": ".py",
   "mimetype": "text/x-python",
   "name": "python",
   "nbconvert_exporter": "python",
   "pygments_lexer": "ipython3",
   "version": "3.8.8"
  }
 },
 "nbformat": 4,
 "nbformat_minor": 5
}
